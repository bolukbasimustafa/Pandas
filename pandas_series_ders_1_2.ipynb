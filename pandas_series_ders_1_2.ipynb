{
 "cells": [
  {
   "cell_type": "code",
   "execution_count": 1,
   "id": "384d4d3d",
   "metadata": {},
   "outputs": [
    {
     "ename": "NameError",
     "evalue": "name 'pd' is not defined",
     "output_type": "error",
     "traceback": [
      "\u001b[1;31m---------------------------------------------------------------------------\u001b[0m",
      "\u001b[1;31mNameError\u001b[0m                                 Traceback (most recent call last)",
      "Input \u001b[1;32mIn [1]\u001b[0m, in \u001b[0;36m<cell line: 1>\u001b[1;34m()\u001b[0m\n\u001b[1;32m----> 1\u001b[0m \u001b[43mpd\u001b[49m\u001b[38;5;241m.\u001b[39m__version__\n",
      "\u001b[1;31mNameError\u001b[0m: name 'pd' is not defined"
     ]
    }
   ],
   "source": [
    "pd.__version__                                             # version kontrolu ile pandas yüklenmiş mi kontrol ediyoruz\n",
    "                                                           # yüklenmemişse hata veriyor"
   ]
  },
  {
   "cell_type": "code",
   "execution_count": null,
   "id": "377cbe4a",
   "metadata": {},
   "outputs": [],
   "source": [
    "pip install pandas                                         # ilk kurulum pandas kütüphanesi install ediliyor bir kez yapılıyor"
   ]
  },
  {
   "cell_type": "code",
   "execution_count": 5,
   "id": "b1db2aa7",
   "metadata": {},
   "outputs": [],
   "source": [
    "import pandas as pd                                        # import işlemi çalışma öncesi yapılır \n",
    "import numpy as np"
   ]
  },
  {
   "cell_type": "code",
   "execution_count": null,
   "id": "36597911",
   "metadata": {},
   "outputs": [],
   "source": []
  },
  {
   "cell_type": "code",
   "execution_count": 6,
   "id": "901c6f5d",
   "metadata": {},
   "outputs": [],
   "source": [
    "liste=[1,5,9,11,15]"
   ]
  },
  {
   "cell_type": "code",
   "execution_count": 7,
   "id": "086f409f",
   "metadata": {},
   "outputs": [],
   "source": [
    "seri=pd.Series(data=liste)                                 # (data=liste) yerine sadece (liste) olarakta yazılabilir\n",
    "# seri=pd.Series(liste)                                    "
   ]
  },
  {
   "cell_type": "code",
   "execution_count": 8,
   "id": "d9b68779",
   "metadata": {},
   "outputs": [
    {
     "data": {
      "text/plain": [
       "0     1\n",
       "1     5\n",
       "2     9\n",
       "3    11\n",
       "4    15\n",
       "dtype: int64"
      ]
     },
     "execution_count": 8,
     "metadata": {},
     "output_type": "execute_result"
    }
   ],
   "source": [
    "seri                                                       # pd.Series ler index ile birlikte tutulur. "
   ]
  },
  {
   "cell_type": "code",
   "execution_count": 9,
   "id": "4538ec6a",
   "metadata": {},
   "outputs": [
    {
     "data": {
      "text/plain": [
       "pandas.core.series.Series"
      ]
     },
     "execution_count": 9,
     "metadata": {},
     "output_type": "execute_result"
    }
   ],
   "source": [
    "type(seri)"
   ]
  },
  {
   "cell_type": "code",
   "execution_count": 10,
   "id": "031bd5e2",
   "metadata": {},
   "outputs": [
    {
     "data": {
      "text/plain": [
       "1"
      ]
     },
     "execution_count": 10,
     "metadata": {},
     "output_type": "execute_result"
    }
   ],
   "source": [
    "seri.ndim"
   ]
  },
  {
   "cell_type": "code",
   "execution_count": 11,
   "id": "be7ef738",
   "metadata": {},
   "outputs": [
    {
     "data": {
      "text/plain": [
       "(5,)"
      ]
     },
     "execution_count": 11,
     "metadata": {},
     "output_type": "execute_result"
    }
   ],
   "source": [
    "seri.shape"
   ]
  },
  {
   "cell_type": "code",
   "execution_count": null,
   "id": "dadc0593",
   "metadata": {},
   "outputs": [],
   "source": []
  },
  {
   "cell_type": "code",
   "execution_count": 12,
   "id": "a935e528",
   "metadata": {},
   "outputs": [],
   "source": [
    "seri2=pd.Series(data=[[1,5,6],[3,5,9]])                     # kullanımda pek yok gormek için yaptık\n",
    "# seri2=pd.Series([[1,5,6],[3,5,9]])"
   ]
  },
  {
   "cell_type": "code",
   "execution_count": 13,
   "id": "6c07a75f",
   "metadata": {},
   "outputs": [
    {
     "data": {
      "text/plain": [
       "0    [1, 5, 6]\n",
       "1    [3, 5, 9]\n",
       "dtype: object"
      ]
     },
     "execution_count": 13,
     "metadata": {},
     "output_type": "execute_result"
    }
   ],
   "source": [
    "seri2"
   ]
  },
  {
   "cell_type": "code",
   "execution_count": null,
   "id": "0eed28c9",
   "metadata": {},
   "outputs": [],
   "source": []
  },
  {
   "cell_type": "code",
   "execution_count": 14,
   "id": "4abc957f",
   "metadata": {},
   "outputs": [
    {
     "data": {
      "text/plain": [
       "[1, 5, 9, 11, 15]"
      ]
     },
     "execution_count": 14,
     "metadata": {},
     "output_type": "execute_result"
    }
   ],
   "source": [
    "liste"
   ]
  },
  {
   "cell_type": "code",
   "execution_count": 15,
   "id": "0a9af5dd",
   "metadata": {},
   "outputs": [],
   "source": [
    "df=pd.DataFrame(data=liste)                                 # pd.DataFrame ler index ile bulunur. sonuc tablo olarak çıkar "
   ]
  },
  {
   "cell_type": "code",
   "execution_count": 16,
   "id": "5bf2ba6f",
   "metadata": {},
   "outputs": [
    {
     "data": {
      "text/html": [
       "<div>\n",
       "<style scoped>\n",
       "    .dataframe tbody tr th:only-of-type {\n",
       "        vertical-align: middle;\n",
       "    }\n",
       "\n",
       "    .dataframe tbody tr th {\n",
       "        vertical-align: top;\n",
       "    }\n",
       "\n",
       "    .dataframe thead th {\n",
       "        text-align: right;\n",
       "    }\n",
       "</style>\n",
       "<table border=\"1\" class=\"dataframe\">\n",
       "  <thead>\n",
       "    <tr style=\"text-align: right;\">\n",
       "      <th></th>\n",
       "      <th>0</th>\n",
       "    </tr>\n",
       "  </thead>\n",
       "  <tbody>\n",
       "    <tr>\n",
       "      <th>0</th>\n",
       "      <td>1</td>\n",
       "    </tr>\n",
       "    <tr>\n",
       "      <th>1</th>\n",
       "      <td>5</td>\n",
       "    </tr>\n",
       "    <tr>\n",
       "      <th>2</th>\n",
       "      <td>9</td>\n",
       "    </tr>\n",
       "    <tr>\n",
       "      <th>3</th>\n",
       "      <td>11</td>\n",
       "    </tr>\n",
       "    <tr>\n",
       "      <th>4</th>\n",
       "      <td>15</td>\n",
       "    </tr>\n",
       "  </tbody>\n",
       "</table>\n",
       "</div>"
      ],
      "text/plain": [
       "    0\n",
       "0   1\n",
       "1   5\n",
       "2   9\n",
       "3  11\n",
       "4  15"
      ]
     },
     "execution_count": 16,
     "metadata": {},
     "output_type": "execute_result"
    }
   ],
   "source": [
    "df"
   ]
  },
  {
   "cell_type": "code",
   "execution_count": 17,
   "id": "185d5c6c",
   "metadata": {},
   "outputs": [
    {
     "data": {
      "text/plain": [
       "(5, 1)"
      ]
     },
     "execution_count": 17,
     "metadata": {},
     "output_type": "execute_result"
    }
   ],
   "source": [
    "df.shape"
   ]
  },
  {
   "cell_type": "code",
   "execution_count": 18,
   "id": "8c9fa016",
   "metadata": {},
   "outputs": [
    {
     "data": {
      "text/plain": [
       "(5,)"
      ]
     },
     "execution_count": 18,
     "metadata": {},
     "output_type": "execute_result"
    }
   ],
   "source": [
    "seri.shape"
   ]
  },
  {
   "cell_type": "code",
   "execution_count": null,
   "id": "60b9ade0",
   "metadata": {},
   "outputs": [],
   "source": []
  },
  {
   "cell_type": "code",
   "execution_count": 19,
   "id": "3559699b",
   "metadata": {},
   "outputs": [],
   "source": [
    "df2=pd.DataFrame(data=[[1,5,6],[3,5,9]]) \n",
    "# df2=pd.DataFrame([[1,5,6],[3,5,9]])"
   ]
  },
  {
   "cell_type": "code",
   "execution_count": 20,
   "id": "a6318433",
   "metadata": {},
   "outputs": [
    {
     "data": {
      "text/html": [
       "<div>\n",
       "<style scoped>\n",
       "    .dataframe tbody tr th:only-of-type {\n",
       "        vertical-align: middle;\n",
       "    }\n",
       "\n",
       "    .dataframe tbody tr th {\n",
       "        vertical-align: top;\n",
       "    }\n",
       "\n",
       "    .dataframe thead th {\n",
       "        text-align: right;\n",
       "    }\n",
       "</style>\n",
       "<table border=\"1\" class=\"dataframe\">\n",
       "  <thead>\n",
       "    <tr style=\"text-align: right;\">\n",
       "      <th></th>\n",
       "      <th>0</th>\n",
       "      <th>1</th>\n",
       "      <th>2</th>\n",
       "    </tr>\n",
       "  </thead>\n",
       "  <tbody>\n",
       "    <tr>\n",
       "      <th>0</th>\n",
       "      <td>1</td>\n",
       "      <td>5</td>\n",
       "      <td>6</td>\n",
       "    </tr>\n",
       "    <tr>\n",
       "      <th>1</th>\n",
       "      <td>3</td>\n",
       "      <td>5</td>\n",
       "      <td>9</td>\n",
       "    </tr>\n",
       "  </tbody>\n",
       "</table>\n",
       "</div>"
      ],
      "text/plain": [
       "   0  1  2\n",
       "0  1  5  6\n",
       "1  3  5  9"
      ]
     },
     "execution_count": 20,
     "metadata": {},
     "output_type": "execute_result"
    }
   ],
   "source": [
    "df2"
   ]
  },
  {
   "cell_type": "code",
   "execution_count": 21,
   "id": "2b14ba22",
   "metadata": {},
   "outputs": [
    {
     "data": {
      "text/plain": [
       "(2, 3)"
      ]
     },
     "execution_count": 21,
     "metadata": {},
     "output_type": "execute_result"
    }
   ],
   "source": [
    "df2.shape"
   ]
  },
  {
   "cell_type": "code",
   "execution_count": null,
   "id": "163a4d31",
   "metadata": {},
   "outputs": [],
   "source": []
  },
  {
   "cell_type": "code",
   "execution_count": 22,
   "id": "1ffb6054",
   "metadata": {},
   "outputs": [],
   "source": [
    "df3=pd.DataFrame(data=[[1,5,6],[3,5,9]],index=[\"a\",\"b\"],columns=[\"x\",\"y\",\"z\"])           # index ve columns isimleri atanabilir"
   ]
  },
  {
   "cell_type": "code",
   "execution_count": 23,
   "id": "dfe2849f",
   "metadata": {},
   "outputs": [
    {
     "data": {
      "text/html": [
       "<div>\n",
       "<style scoped>\n",
       "    .dataframe tbody tr th:only-of-type {\n",
       "        vertical-align: middle;\n",
       "    }\n",
       "\n",
       "    .dataframe tbody tr th {\n",
       "        vertical-align: top;\n",
       "    }\n",
       "\n",
       "    .dataframe thead th {\n",
       "        text-align: right;\n",
       "    }\n",
       "</style>\n",
       "<table border=\"1\" class=\"dataframe\">\n",
       "  <thead>\n",
       "    <tr style=\"text-align: right;\">\n",
       "      <th></th>\n",
       "      <th>x</th>\n",
       "      <th>y</th>\n",
       "      <th>z</th>\n",
       "    </tr>\n",
       "  </thead>\n",
       "  <tbody>\n",
       "    <tr>\n",
       "      <th>a</th>\n",
       "      <td>1</td>\n",
       "      <td>5</td>\n",
       "      <td>6</td>\n",
       "    </tr>\n",
       "    <tr>\n",
       "      <th>b</th>\n",
       "      <td>3</td>\n",
       "      <td>5</td>\n",
       "      <td>9</td>\n",
       "    </tr>\n",
       "  </tbody>\n",
       "</table>\n",
       "</div>"
      ],
      "text/plain": [
       "   x  y  z\n",
       "a  1  5  6\n",
       "b  3  5  9"
      ]
     },
     "execution_count": 23,
     "metadata": {},
     "output_type": "execute_result"
    }
   ],
   "source": [
    "df3"
   ]
  },
  {
   "cell_type": "code",
   "execution_count": 24,
   "id": "c79c007d",
   "metadata": {},
   "outputs": [
    {
     "data": {
      "text/plain": [
       "(2, 3)"
      ]
     },
     "execution_count": 24,
     "metadata": {},
     "output_type": "execute_result"
    }
   ],
   "source": [
    "df3.shape"
   ]
  },
  {
   "cell_type": "code",
   "execution_count": null,
   "id": "2c5c8c1f",
   "metadata": {},
   "outputs": [],
   "source": []
  },
  {
   "cell_type": "code",
   "execution_count": null,
   "id": "4ac32136",
   "metadata": {},
   "outputs": [],
   "source": [
    "# 2_gün"
   ]
  },
  {
   "cell_type": "code",
   "execution_count": null,
   "id": "9d0a8ecb",
   "metadata": {},
   "outputs": [],
   "source": [
    "import pandas as pd\n",
    "import numpy as np"
   ]
  },
  {
   "cell_type": "code",
   "execution_count": null,
   "id": "9cfcf0d3",
   "metadata": {},
   "outputs": [],
   "source": []
  },
  {
   "cell_type": "code",
   "execution_count": 25,
   "id": "d22f6829",
   "metadata": {},
   "outputs": [
    {
     "name": "stderr",
     "output_type": "stream",
     "text": [
      "C:\\Users\\honor\\AppData\\Local\\Temp\\ipykernel_9568\\1698144881.py:1: FutureWarning: The default dtype for empty Series will be 'object' instead of 'float64' in a future version. Specify a dtype explicitly to silence this warning.\n",
      "  serii=pd.Series()                                              # boş bir seri üretir\n"
     ]
    }
   ],
   "source": [
    "serii=pd.Series()                                              # boş bir seri üretir"
   ]
  },
  {
   "cell_type": "code",
   "execution_count": 26,
   "id": "214c84e6",
   "metadata": {},
   "outputs": [
    {
     "data": {
      "text/plain": [
       "Series([], dtype: float64)"
      ]
     },
     "execution_count": 26,
     "metadata": {},
     "output_type": "execute_result"
    }
   ],
   "source": [
    "serii"
   ]
  },
  {
   "cell_type": "code",
   "execution_count": null,
   "id": "c25b58be",
   "metadata": {},
   "outputs": [],
   "source": []
  },
  {
   "cell_type": "code",
   "execution_count": null,
   "id": "ce978fc6",
   "metadata": {},
   "outputs": [],
   "source": []
  },
  {
   "cell_type": "markdown",
   "id": "5827c4a9",
   "metadata": {},
   "source": [
    "# pd.Series üretme"
   ]
  },
  {
   "cell_type": "code",
   "execution_count": null,
   "id": "f249aad4",
   "metadata": {},
   "outputs": [],
   "source": [
    "# listeden pd.Series üretme\n",
    "# string den pd.Series üretme\n",
    "# np.array den pd.Series üretme\n",
    "# dictionary den pd.Series üretme\n",
    "# scaler valueden den pd.Series üretme"
   ]
  },
  {
   "cell_type": "markdown",
   "id": "03af2e6a",
   "metadata": {},
   "source": [
    "## bir listeden pd.Series üretme"
   ]
  },
  {
   "cell_type": "code",
   "execution_count": 27,
   "id": "e3e39979",
   "metadata": {},
   "outputs": [],
   "source": [
    "seri1=pd.Series([1,5,6])"
   ]
  },
  {
   "cell_type": "code",
   "execution_count": 28,
   "id": "f31d5bf1",
   "metadata": {},
   "outputs": [
    {
     "data": {
      "text/plain": [
       "0    1\n",
       "1    5\n",
       "2    6\n",
       "dtype: int64"
      ]
     },
     "execution_count": 28,
     "metadata": {},
     "output_type": "execute_result"
    }
   ],
   "source": [
    "seri1"
   ]
  },
  {
   "cell_type": "code",
   "execution_count": 31,
   "id": "10e0f626",
   "metadata": {},
   "outputs": [
    {
     "data": {
      "text/plain": [
       "(3,)"
      ]
     },
     "execution_count": 31,
     "metadata": {},
     "output_type": "execute_result"
    }
   ],
   "source": [
    "seri1.shape"
   ]
  },
  {
   "cell_type": "code",
   "execution_count": 29,
   "id": "1db700ea",
   "metadata": {},
   "outputs": [
    {
     "data": {
      "text/plain": [
       "3"
      ]
     },
     "execution_count": 29,
     "metadata": {},
     "output_type": "execute_result"
    }
   ],
   "source": [
    "seri1.size                                                    # 3 satırdan oluşan bir pandas serisidir"
   ]
  },
  {
   "cell_type": "code",
   "execution_count": 30,
   "id": "f00cd9db",
   "metadata": {},
   "outputs": [
    {
     "data": {
      "text/plain": [
       "dtype('int64')"
      ]
     },
     "execution_count": 30,
     "metadata": {},
     "output_type": "execute_result"
    }
   ],
   "source": [
    "seri1.dtype"
   ]
  },
  {
   "cell_type": "code",
   "execution_count": 32,
   "id": "d9ffdad1",
   "metadata": {},
   "outputs": [
    {
     "data": {
      "text/plain": [
       "pandas.core.series.Series"
      ]
     },
     "execution_count": 32,
     "metadata": {},
     "output_type": "execute_result"
    }
   ],
   "source": [
    "type(seri1)"
   ]
  },
  {
   "cell_type": "code",
   "execution_count": 36,
   "id": "ed05ec55",
   "metadata": {},
   "outputs": [
    {
     "data": {
      "text/plain": [
       "RangeIndex(start=0, stop=3, step=1)"
      ]
     },
     "execution_count": 36,
     "metadata": {},
     "output_type": "execute_result"
    }
   ],
   "source": [
    "seri1.index"
   ]
  },
  {
   "cell_type": "code",
   "execution_count": 33,
   "id": "5943de08",
   "metadata": {},
   "outputs": [
    {
     "data": {
      "text/plain": [
       "array([1, 5, 6], dtype=int64)"
      ]
     },
     "execution_count": 33,
     "metadata": {},
     "output_type": "execute_result"
    }
   ],
   "source": [
    "seri1.values                                                # pandas serisindeki değerleri array olarak verir"
   ]
  },
  {
   "cell_type": "code",
   "execution_count": 34,
   "id": "b9fa2440",
   "metadata": {},
   "outputs": [
    {
     "name": "stdout",
     "output_type": "stream",
     "text": [
      "1\n",
      "5\n",
      "6\n"
     ]
    }
   ],
   "source": [
    "for i in seri1.values:                                      # pandas serisinin değerlerine for döngüsü ile ulaşabiliriz\n",
    "    print(i)"
   ]
  },
  {
   "cell_type": "code",
   "execution_count": null,
   "id": "abfbedfc",
   "metadata": {},
   "outputs": [],
   "source": []
  },
  {
   "cell_type": "markdown",
   "id": "711174ed",
   "metadata": {},
   "source": [
    "## string bir değerden pd.Series üretme"
   ]
  },
  {
   "cell_type": "code",
   "execution_count": null,
   "id": "41ad0552",
   "metadata": {},
   "outputs": [],
   "source": []
  },
  {
   "cell_type": "code",
   "execution_count": 37,
   "id": "3cd47314",
   "metadata": {},
   "outputs": [],
   "source": [
    "string=\"hello world\""
   ]
  },
  {
   "cell_type": "code",
   "execution_count": 38,
   "id": "56db484a",
   "metadata": {},
   "outputs": [],
   "source": [
    "seri2=pd.Series(i for i in string)                             # list comprehension for dongusu"
   ]
  },
  {
   "cell_type": "code",
   "execution_count": 39,
   "id": "05590227",
   "metadata": {},
   "outputs": [
    {
     "data": {
      "text/plain": [
       "0     h\n",
       "1     e\n",
       "2     l\n",
       "3     l\n",
       "4     o\n",
       "5      \n",
       "6     w\n",
       "7     o\n",
       "8     r\n",
       "9     l\n",
       "10    d\n",
       "dtype: object"
      ]
     },
     "execution_count": 39,
     "metadata": {},
     "output_type": "execute_result"
    }
   ],
   "source": [
    "seri2"
   ]
  },
  {
   "cell_type": "code",
   "execution_count": 40,
   "id": "3818e52e",
   "metadata": {},
   "outputs": [
    {
     "data": {
      "text/plain": [
       "11"
      ]
     },
     "execution_count": 40,
     "metadata": {},
     "output_type": "execute_result"
    }
   ],
   "source": [
    "seri2.size"
   ]
  },
  {
   "cell_type": "code",
   "execution_count": 42,
   "id": "6d2ea080",
   "metadata": {},
   "outputs": [
    {
     "data": {
      "text/plain": [
       "(11,)"
      ]
     },
     "execution_count": 42,
     "metadata": {},
     "output_type": "execute_result"
    }
   ],
   "source": [
    "seri2.shape"
   ]
  },
  {
   "cell_type": "code",
   "execution_count": 43,
   "id": "7a9a98c8",
   "metadata": {},
   "outputs": [
    {
     "data": {
      "text/plain": [
       "dtype('O')"
      ]
     },
     "execution_count": 43,
     "metadata": {},
     "output_type": "execute_result"
    }
   ],
   "source": [
    "seri2.dtype"
   ]
  },
  {
   "cell_type": "code",
   "execution_count": 44,
   "id": "b896cd34",
   "metadata": {},
   "outputs": [
    {
     "data": {
      "text/plain": [
       "pandas.core.series.Series"
      ]
     },
     "execution_count": 44,
     "metadata": {},
     "output_type": "execute_result"
    }
   ],
   "source": [
    "type(seri2)"
   ]
  },
  {
   "cell_type": "code",
   "execution_count": 52,
   "id": "0704baad",
   "metadata": {},
   "outputs": [
    {
     "data": {
      "text/plain": [
       "RangeIndex(start=0, stop=11, step=1)"
      ]
     },
     "execution_count": 52,
     "metadata": {},
     "output_type": "execute_result"
    }
   ],
   "source": [
    "seri2.index"
   ]
  },
  {
   "cell_type": "code",
   "execution_count": 50,
   "id": "608ba02a",
   "metadata": {},
   "outputs": [
    {
     "data": {
      "text/plain": [
       "array(['h', 'e', 'l', 'l', 'o', ' ', 'w', 'o', 'r', 'l', 'd'],\n",
       "      dtype=object)"
      ]
     },
     "execution_count": 50,
     "metadata": {},
     "output_type": "execute_result"
    }
   ],
   "source": [
    "seri2.values"
   ]
  },
  {
   "cell_type": "code",
   "execution_count": 51,
   "id": "ff0bd6eb",
   "metadata": {},
   "outputs": [
    {
     "name": "stdout",
     "output_type": "stream",
     "text": [
      "h\n",
      "e\n",
      "l\n",
      "l\n",
      "o\n",
      " \n",
      "w\n",
      "o\n",
      "r\n",
      "l\n",
      "d\n"
     ]
    }
   ],
   "source": [
    "for i in seri2.values:                                         # pandas serisinin değerlerine for döngüsü ile ulaşabiliriz\n",
    "    print(i)"
   ]
  },
  {
   "cell_type": "code",
   "execution_count": null,
   "id": "31f313b4",
   "metadata": {},
   "outputs": [],
   "source": []
  },
  {
   "cell_type": "markdown",
   "id": "06ed5f26",
   "metadata": {},
   "source": [
    "## np.array den pd.Series üretme"
   ]
  },
  {
   "cell_type": "code",
   "execution_count": null,
   "id": "18afc824",
   "metadata": {},
   "outputs": [],
   "source": []
  },
  {
   "cell_type": "code",
   "execution_count": 53,
   "id": "6f1401c4",
   "metadata": {},
   "outputs": [],
   "source": [
    "data=np.array([\"a\",\"b\",\"c\"])"
   ]
  },
  {
   "cell_type": "code",
   "execution_count": 54,
   "id": "048379e7",
   "metadata": {},
   "outputs": [
    {
     "data": {
      "text/plain": [
       "array(['a', 'b', 'c'], dtype='<U1')"
      ]
     },
     "execution_count": 54,
     "metadata": {},
     "output_type": "execute_result"
    }
   ],
   "source": [
    "data"
   ]
  },
  {
   "cell_type": "code",
   "execution_count": 55,
   "id": "82a761ce",
   "metadata": {},
   "outputs": [],
   "source": [
    "seri3=pd.Series(data)"
   ]
  },
  {
   "cell_type": "code",
   "execution_count": 56,
   "id": "b4ece9d0",
   "metadata": {},
   "outputs": [
    {
     "data": {
      "text/plain": [
       "0    a\n",
       "1    b\n",
       "2    c\n",
       "dtype: object"
      ]
     },
     "execution_count": 56,
     "metadata": {},
     "output_type": "execute_result"
    }
   ],
   "source": [
    "seri3"
   ]
  },
  {
   "cell_type": "code",
   "execution_count": 57,
   "id": "ce379185",
   "metadata": {},
   "outputs": [
    {
     "data": {
      "text/plain": [
       "(3,)"
      ]
     },
     "execution_count": 57,
     "metadata": {},
     "output_type": "execute_result"
    }
   ],
   "source": [
    "seri3.shape"
   ]
  },
  {
   "cell_type": "code",
   "execution_count": 58,
   "id": "3a8ecfde",
   "metadata": {},
   "outputs": [
    {
     "data": {
      "text/plain": [
       "3"
      ]
     },
     "execution_count": 58,
     "metadata": {},
     "output_type": "execute_result"
    }
   ],
   "source": [
    "seri3.size"
   ]
  },
  {
   "cell_type": "code",
   "execution_count": 60,
   "id": "411ec10e",
   "metadata": {},
   "outputs": [
    {
     "data": {
      "text/plain": [
       "pandas.core.series.Series"
      ]
     },
     "execution_count": 60,
     "metadata": {},
     "output_type": "execute_result"
    }
   ],
   "source": [
    "type(seri3)"
   ]
  },
  {
   "cell_type": "code",
   "execution_count": 62,
   "id": "967f13c7",
   "metadata": {},
   "outputs": [
    {
     "data": {
      "text/plain": [
       "dtype('O')"
      ]
     },
     "execution_count": 62,
     "metadata": {},
     "output_type": "execute_result"
    }
   ],
   "source": [
    "seri3.dtype"
   ]
  },
  {
   "cell_type": "code",
   "execution_count": 63,
   "id": "5b0a7066",
   "metadata": {},
   "outputs": [
    {
     "data": {
      "text/plain": [
       "RangeIndex(start=0, stop=3, step=1)"
      ]
     },
     "execution_count": 63,
     "metadata": {},
     "output_type": "execute_result"
    }
   ],
   "source": [
    "seri3.index"
   ]
  },
  {
   "cell_type": "code",
   "execution_count": 64,
   "id": "8ee6d80d",
   "metadata": {},
   "outputs": [
    {
     "data": {
      "text/plain": [
       "array(['a', 'b', 'c'], dtype=object)"
      ]
     },
     "execution_count": 64,
     "metadata": {},
     "output_type": "execute_result"
    }
   ],
   "source": [
    "seri3.values"
   ]
  },
  {
   "cell_type": "code",
   "execution_count": 65,
   "id": "0de0c6a8",
   "metadata": {},
   "outputs": [
    {
     "name": "stdout",
     "output_type": "stream",
     "text": [
      "a\n",
      "b\n",
      "c\n"
     ]
    }
   ],
   "source": [
    "for i in seri3.values:\n",
    "    print(i)"
   ]
  },
  {
   "cell_type": "code",
   "execution_count": null,
   "id": "e42126df",
   "metadata": {},
   "outputs": [],
   "source": []
  },
  {
   "cell_type": "code",
   "execution_count": null,
   "id": "e57faaa0",
   "metadata": {},
   "outputs": [],
   "source": []
  },
  {
   "cell_type": "code",
   "execution_count": 66,
   "id": "f977aea8",
   "metadata": {},
   "outputs": [],
   "source": [
    "data1=np.arange(1,20,3)"
   ]
  },
  {
   "cell_type": "code",
   "execution_count": 67,
   "id": "9a84b30a",
   "metadata": {},
   "outputs": [
    {
     "data": {
      "text/plain": [
       "array([ 1,  4,  7, 10, 13, 16, 19])"
      ]
     },
     "execution_count": 67,
     "metadata": {},
     "output_type": "execute_result"
    }
   ],
   "source": [
    "data1"
   ]
  },
  {
   "cell_type": "code",
   "execution_count": 68,
   "id": "53d530bf",
   "metadata": {},
   "outputs": [],
   "source": [
    "seri33=pd.Series(data1, index=[\"a\",\"b\",\"c\",\"d\",\"e\",\"f\",\"g\"])           # pd.Series üretirken index değerleri verilebilir"
   ]
  },
  {
   "cell_type": "code",
   "execution_count": 71,
   "id": "667b45f1",
   "metadata": {},
   "outputs": [
    {
     "data": {
      "text/plain": [
       "a     1\n",
       "b     4\n",
       "c     7\n",
       "d    10\n",
       "e    13\n",
       "f    16\n",
       "g    19\n",
       "dtype: int32"
      ]
     },
     "execution_count": 71,
     "metadata": {},
     "output_type": "execute_result"
    }
   ],
   "source": [
    "seri33"
   ]
  },
  {
   "cell_type": "code",
   "execution_count": null,
   "id": "9085556c",
   "metadata": {},
   "outputs": [],
   "source": []
  },
  {
   "cell_type": "markdown",
   "id": "e9199520",
   "metadata": {},
   "source": [
    "## dictionary (sözlük) ten pd.Series üretme"
   ]
  },
  {
   "cell_type": "code",
   "execution_count": null,
   "id": "3932141f",
   "metadata": {},
   "outputs": [],
   "source": []
  },
  {
   "cell_type": "code",
   "execution_count": 72,
   "id": "07fd6741",
   "metadata": {},
   "outputs": [],
   "source": [
    "sozluk={\"a\":1,\"b\":2,\"c\":3}                             # sozlukten pd.Series üretirken key değerleri index i, value değerleri \n",
    "                                                       # sütunu oluşturur"
   ]
  },
  {
   "cell_type": "code",
   "execution_count": 73,
   "id": "578774df",
   "metadata": {},
   "outputs": [],
   "source": [
    "seri4=pd.Series(sozluk)"
   ]
  },
  {
   "cell_type": "code",
   "execution_count": 74,
   "id": "29a7fb88",
   "metadata": {},
   "outputs": [
    {
     "data": {
      "text/plain": [
       "a    1\n",
       "b    2\n",
       "c    3\n",
       "dtype: int64"
      ]
     },
     "execution_count": 74,
     "metadata": {},
     "output_type": "execute_result"
    }
   ],
   "source": [
    "seri4"
   ]
  },
  {
   "cell_type": "code",
   "execution_count": 78,
   "id": "b02bb02d",
   "metadata": {},
   "outputs": [
    {
     "data": {
      "text/plain": [
       "<bound method Series.keys of a    1\n",
       "b    2\n",
       "c    3\n",
       "dtype: int64>"
      ]
     },
     "execution_count": 78,
     "metadata": {},
     "output_type": "execute_result"
    }
   ],
   "source": [
    "seri4.keys"
   ]
  },
  {
   "cell_type": "code",
   "execution_count": 79,
   "id": "05a01699",
   "metadata": {},
   "outputs": [
    {
     "data": {
      "text/plain": [
       "array([1, 2, 3], dtype=int64)"
      ]
     },
     "execution_count": 79,
     "metadata": {},
     "output_type": "execute_result"
    }
   ],
   "source": [
    "seri4.values"
   ]
  },
  {
   "cell_type": "code",
   "execution_count": null,
   "id": "1ffbd0d3",
   "metadata": {},
   "outputs": [],
   "source": []
  },
  {
   "cell_type": "code",
   "execution_count": 82,
   "id": "ab4c50b2",
   "metadata": {},
   "outputs": [
    {
     "data": {
      "text/plain": [
       "{'a': 1, 'b': 2, 'c': 3}"
      ]
     },
     "execution_count": 82,
     "metadata": {},
     "output_type": "execute_result"
    }
   ],
   "source": [
    "sozluk"
   ]
  },
  {
   "cell_type": "code",
   "execution_count": 80,
   "id": "fb2602ed",
   "metadata": {},
   "outputs": [],
   "source": [
    "seri44=pd.Series(sozluk, index=[\"a\",\"b\",\"d\"])         # sozluk ten pd.Series üretirken index değerleri tanımlanırsa bu index\n",
    "                                                      # lerin sozlukteki karşılıkları alınır karşılığı olmayanlar nan yazılır"
   ]
  },
  {
   "cell_type": "code",
   "execution_count": 81,
   "id": "f5b1bb97",
   "metadata": {},
   "outputs": [
    {
     "data": {
      "text/plain": [
       "a    1.0\n",
       "b    2.0\n",
       "d    NaN\n",
       "dtype: float64"
      ]
     },
     "execution_count": 81,
     "metadata": {},
     "output_type": "execute_result"
    }
   ],
   "source": [
    "seri44"
   ]
  },
  {
   "cell_type": "code",
   "execution_count": null,
   "id": "865019d9",
   "metadata": {},
   "outputs": [],
   "source": []
  },
  {
   "cell_type": "code",
   "execution_count": 83,
   "id": "be1131b5",
   "metadata": {},
   "outputs": [],
   "source": [
    "sozluk2={\"std1\":\"mustafa\",\"std2\":\"ayse\",\"std3\":\"mahir\"}"
   ]
  },
  {
   "cell_type": "code",
   "execution_count": 84,
   "id": "ea60f0b7",
   "metadata": {},
   "outputs": [
    {
     "data": {
      "text/plain": [
       "std1    mustafa\n",
       "std2       ayse\n",
       "std3      mahir\n",
       "dtype: object"
      ]
     },
     "execution_count": 84,
     "metadata": {},
     "output_type": "execute_result"
    }
   ],
   "source": [
    "pd.Series(sozluk2)"
   ]
  },
  {
   "cell_type": "code",
   "execution_count": null,
   "id": "520bd007",
   "metadata": {},
   "outputs": [],
   "source": []
  },
  {
   "cell_type": "markdown",
   "id": "539acc9b",
   "metadata": {},
   "source": [
    "## scalaer value (standart sabit bir değişken) den pd.Series üretme"
   ]
  },
  {
   "cell_type": "code",
   "execution_count": null,
   "id": "e4f852fc",
   "metadata": {},
   "outputs": [],
   "source": []
  },
  {
   "cell_type": "code",
   "execution_count": 85,
   "id": "a7603bf8",
   "metadata": {},
   "outputs": [],
   "source": [
    "seri5=pd.Series(99, index=[i for i in range(3,30,3)])     # index değeri verilmek zorundadır. index kadar sabit sayıdan oluşan \n",
    "                                                          # sütun üretir"
   ]
  },
  {
   "cell_type": "code",
   "execution_count": 86,
   "id": "3c6ac4ed",
   "metadata": {},
   "outputs": [
    {
     "data": {
      "text/plain": [
       "3     99\n",
       "6     99\n",
       "9     99\n",
       "12    99\n",
       "15    99\n",
       "18    99\n",
       "21    99\n",
       "24    99\n",
       "27    99\n",
       "dtype: int64"
      ]
     },
     "execution_count": 86,
     "metadata": {},
     "output_type": "execute_result"
    }
   ],
   "source": [
    "seri5"
   ]
  },
  {
   "cell_type": "code",
   "execution_count": null,
   "id": "b5891d85",
   "metadata": {},
   "outputs": [],
   "source": []
  },
  {
   "cell_type": "code",
   "execution_count": 87,
   "id": "678d78ea",
   "metadata": {},
   "outputs": [],
   "source": [
    "seri55=pd.Series(55, index=[np.arange(7)])"
   ]
  },
  {
   "cell_type": "code",
   "execution_count": 88,
   "id": "c2c0ee2d",
   "metadata": {},
   "outputs": [
    {
     "data": {
      "text/plain": [
       "0    55\n",
       "1    55\n",
       "2    55\n",
       "3    55\n",
       "4    55\n",
       "5    55\n",
       "6    55\n",
       "dtype: int64"
      ]
     },
     "execution_count": 88,
     "metadata": {},
     "output_type": "execute_result"
    }
   ],
   "source": [
    "seri55"
   ]
  },
  {
   "cell_type": "code",
   "execution_count": null,
   "id": "4334d841",
   "metadata": {},
   "outputs": [],
   "source": []
  },
  {
   "cell_type": "code",
   "execution_count": 89,
   "id": "79e26af8",
   "metadata": {},
   "outputs": [],
   "source": [
    "myIndex=np.arange(0,30,4)"
   ]
  },
  {
   "cell_type": "code",
   "execution_count": 90,
   "id": "9334242f",
   "metadata": {},
   "outputs": [],
   "source": [
    "seri555=pd.Series(66,index=myIndex)          # daha once oluşturulmuş bir array, liste vb index olarak tanımlanabilir.\n",
    "                                             # aynı sekılde 66 yerıne sabıt bır değişkende başka bir yerde tanımlanmış olabilir"
   ]
  },
  {
   "cell_type": "code",
   "execution_count": 91,
   "id": "c1e555a5",
   "metadata": {},
   "outputs": [
    {
     "data": {
      "text/plain": [
       "0     66\n",
       "4     66\n",
       "8     66\n",
       "12    66\n",
       "16    66\n",
       "20    66\n",
       "24    66\n",
       "28    66\n",
       "dtype: int64"
      ]
     },
     "execution_count": 91,
     "metadata": {},
     "output_type": "execute_result"
    }
   ],
   "source": [
    "seri555"
   ]
  },
  {
   "cell_type": "code",
   "execution_count": null,
   "id": "18eaca10",
   "metadata": {},
   "outputs": [],
   "source": []
  },
  {
   "cell_type": "code",
   "execution_count": null,
   "id": "5524a35e",
   "metadata": {},
   "outputs": [],
   "source": []
  },
  {
   "cell_type": "markdown",
   "id": "f3d2f3eb",
   "metadata": {},
   "source": [
    "# pd.Series lerde slice indexing / label indexing           "
   ]
  },
  {
   "cell_type": "code",
   "execution_count": null,
   "id": "2b7fe6b3",
   "metadata": {},
   "outputs": [],
   "source": []
  },
  {
   "cell_type": "code",
   "execution_count": 92,
   "id": "640a3637",
   "metadata": {},
   "outputs": [],
   "source": [
    "seri6=pd.Series([1,3,5,7,9,11], index=[\"a\",\"b\",\"c\",\"x\",\"y\",\"z\"])"
   ]
  },
  {
   "cell_type": "code",
   "execution_count": null,
   "id": "28c3c781",
   "metadata": {},
   "outputs": [],
   "source": []
  },
  {
   "cell_type": "code",
   "execution_count": null,
   "id": "175fc1b3",
   "metadata": {},
   "outputs": [],
   "source": [
    "# index yada label index i verilenleri slicing ile dilimleme"
   ]
  },
  {
   "cell_type": "code",
   "execution_count": 93,
   "id": "cc4fcd0d",
   "metadata": {},
   "outputs": [
    {
     "data": {
      "text/plain": [
       "a     1\n",
       "b     3\n",
       "c     5\n",
       "x     7\n",
       "y     9\n",
       "z    11\n",
       "dtype: int64"
      ]
     },
     "execution_count": 93,
     "metadata": {},
     "output_type": "execute_result"
    }
   ],
   "source": [
    "seri6"
   ]
  },
  {
   "cell_type": "code",
   "execution_count": 94,
   "id": "9d12443d",
   "metadata": {},
   "outputs": [
    {
     "data": {
      "text/plain": [
       "5"
      ]
     },
     "execution_count": 94,
     "metadata": {},
     "output_type": "execute_result"
    }
   ],
   "source": [
    "seri6[2]                       # label index degerler atanmış olsada arka planda yer alan index degerleri ile de slicing yapılır"
   ]
  },
  {
   "cell_type": "code",
   "execution_count": 95,
   "id": "bda2f966",
   "metadata": {},
   "outputs": [
    {
     "data": {
      "text/plain": [
       "5"
      ]
     },
     "execution_count": 95,
     "metadata": {},
     "output_type": "execute_result"
    }
   ],
   "source": [
    "seri6[\"c\"]                     # label index değer ilede slicing yapılır"
   ]
  },
  {
   "cell_type": "code",
   "execution_count": null,
   "id": "b0059dd9",
   "metadata": {},
   "outputs": [],
   "source": []
  },
  {
   "cell_type": "code",
   "execution_count": null,
   "id": "e8d17bd0",
   "metadata": {},
   "outputs": [],
   "source": [
    "# belirli bir aralıkta yer alanları slicing ile dilimleme"
   ]
  },
  {
   "cell_type": "code",
   "execution_count": 96,
   "id": "9955005b",
   "metadata": {},
   "outputs": [
    {
     "data": {
      "text/plain": [
       "a     1\n",
       "b     3\n",
       "c     5\n",
       "x     7\n",
       "y     9\n",
       "z    11\n",
       "dtype: int64"
      ]
     },
     "execution_count": 96,
     "metadata": {},
     "output_type": "execute_result"
    }
   ],
   "source": [
    "seri6"
   ]
  },
  {
   "cell_type": "code",
   "execution_count": 97,
   "id": "da211b78",
   "metadata": {},
   "outputs": [
    {
     "data": {
      "text/plain": [
       "b    3\n",
       "c    5\n",
       "x    7\n",
       "dtype: int64"
      ]
     },
     "execution_count": 97,
     "metadata": {},
     "output_type": "execute_result"
    }
   ],
   "source": [
    "seri6[1:4]                      # bir aralık slicing yapılmak istendiğinde normal start,stop mantığı işler"
   ]
  },
  {
   "cell_type": "code",
   "execution_count": 98,
   "id": "35f12cac",
   "metadata": {},
   "outputs": [
    {
     "data": {
      "text/plain": [
       "b    3\n",
       "c    5\n",
       "x    7\n",
       "y    9\n",
       "dtype: int64"
      ]
     },
     "execution_count": 98,
     "metadata": {},
     "output_type": "execute_result"
    }
   ],
   "source": [
    "seri6[\"b\":\"y\"]                  # label indexing de bir aralık slicing yapılmak istendiğinde start,stop mantığında çalışmaz\n",
    "                                # her iki index değeri dahil olmak üzere aralarındakini alır"
   ]
  },
  {
   "cell_type": "code",
   "execution_count": null,
   "id": "b337900d",
   "metadata": {},
   "outputs": [],
   "source": []
  },
  {
   "cell_type": "code",
   "execution_count": 99,
   "id": "6bf606b3",
   "metadata": {},
   "outputs": [
    {
     "data": {
      "text/plain": [
       "c     5\n",
       "x     7\n",
       "y     9\n",
       "z    11\n",
       "dtype: int64"
      ]
     },
     "execution_count": 99,
     "metadata": {},
     "output_type": "execute_result"
    }
   ],
   "source": [
    "seri6[2:]"
   ]
  },
  {
   "cell_type": "code",
   "execution_count": 100,
   "id": "c524bf8f",
   "metadata": {},
   "outputs": [
    {
     "data": {
      "text/plain": [
       "b     3\n",
       "c     5\n",
       "x     7\n",
       "y     9\n",
       "z    11\n",
       "dtype: int64"
      ]
     },
     "execution_count": 100,
     "metadata": {},
     "output_type": "execute_result"
    }
   ],
   "source": [
    "seri6[\"b\":]"
   ]
  },
  {
   "cell_type": "code",
   "execution_count": 101,
   "id": "128913e8",
   "metadata": {},
   "outputs": [
    {
     "data": {
      "text/plain": [
       "a    1\n",
       "b    3\n",
       "c    5\n",
       "x    7\n",
       "dtype: int64"
      ]
     },
     "execution_count": 101,
     "metadata": {},
     "output_type": "execute_result"
    }
   ],
   "source": [
    "seri6[:4]"
   ]
  },
  {
   "cell_type": "code",
   "execution_count": 102,
   "id": "a4b9874a",
   "metadata": {},
   "outputs": [
    {
     "data": {
      "text/plain": [
       "a    1\n",
       "b    3\n",
       "c    5\n",
       "x    7\n",
       "y    9\n",
       "dtype: int64"
      ]
     },
     "execution_count": 102,
     "metadata": {},
     "output_type": "execute_result"
    }
   ],
   "source": [
    "seri6[:\"y\"]                        # label indexing de baştan \"y\" index e kadar hepsini ve \"y\" index i alıyor\n",
    "                                   # label index te start,stop olmuyor. stop ta dahil"
   ]
  },
  {
   "cell_type": "code",
   "execution_count": null,
   "id": "db79bc26",
   "metadata": {},
   "outputs": [],
   "source": []
  },
  {
   "cell_type": "code",
   "execution_count": null,
   "id": "7cba0be6",
   "metadata": {},
   "outputs": [],
   "source": [
    "# index yada label index leri verilenleri slicing ile dilimleme\n"
   ]
  },
  {
   "cell_type": "code",
   "execution_count": null,
   "id": "f65246d6",
   "metadata": {},
   "outputs": [],
   "source": []
  },
  {
   "cell_type": "code",
   "execution_count": 103,
   "id": "e8dac6de",
   "metadata": {},
   "outputs": [
    {
     "data": {
      "text/plain": [
       "a     1\n",
       "b     3\n",
       "c     5\n",
       "x     7\n",
       "y     9\n",
       "z    11\n",
       "dtype: int64"
      ]
     },
     "execution_count": 103,
     "metadata": {},
     "output_type": "execute_result"
    }
   ],
   "source": [
    "seri6"
   ]
  },
  {
   "cell_type": "code",
   "execution_count": 104,
   "id": "45181166",
   "metadata": {},
   "outputs": [
    {
     "data": {
      "text/plain": [
       "b    3\n",
       "x    7\n",
       "c    5\n",
       "dtype: int64"
      ]
     },
     "execution_count": 104,
     "metadata": {},
     "output_type": "execute_result"
    }
   ],
   "source": [
    "seri6[[1,3,2]]                  # secmece index değerlerdeki değerler slicing ile dilimlenecekse dikkat edilmesi gereken \n",
    "                                # ikinci bir [] içinde liste olarak verilmeli. aralarında virgül olmalı."
   ]
  },
  {
   "cell_type": "code",
   "execution_count": 105,
   "id": "2e69d0ca",
   "metadata": {},
   "outputs": [
    {
     "data": {
      "text/plain": [
       "c    5\n",
       "x    7\n",
       "a    1\n",
       "dtype: int64"
      ]
     },
     "execution_count": 105,
     "metadata": {},
     "output_type": "execute_result"
    }
   ],
   "source": [
    "seri6[[\"c\",\"x\",\"a\"]]"
   ]
  },
  {
   "cell_type": "code",
   "execution_count": null,
   "id": "11341733",
   "metadata": {},
   "outputs": [],
   "source": []
  },
  {
   "cell_type": "markdown",
   "id": "b41ef1db",
   "metadata": {},
   "source": [
    "# pd.Series ler arasında işlemler"
   ]
  },
  {
   "cell_type": "code",
   "execution_count": null,
   "id": "d5c26229",
   "metadata": {},
   "outputs": [],
   "source": []
  },
  {
   "cell_type": "code",
   "execution_count": 106,
   "id": "19680efe",
   "metadata": {},
   "outputs": [],
   "source": [
    "seri71=pd.Series([1,2,3,4,5,6], index=[\"usa\",\"germany\",\"canada\",\"franse\",\"uk\",\"spain\"])\n",
    "seri72=pd.Series([11,22,33,44,55,66], index=[\"usa\",\"germany\",\"mexico\",\"franse\",\"uk\",\"spain\"])"
   ]
  },
  {
   "cell_type": "code",
   "execution_count": 107,
   "id": "96fabeb6",
   "metadata": {},
   "outputs": [
    {
     "data": {
      "text/plain": [
       "usa        1\n",
       "germany    2\n",
       "canada     3\n",
       "franse     4\n",
       "uk         5\n",
       "spain      6\n",
       "dtype: int64"
      ]
     },
     "execution_count": 107,
     "metadata": {},
     "output_type": "execute_result"
    }
   ],
   "source": [
    "seri71"
   ]
  },
  {
   "cell_type": "code",
   "execution_count": 108,
   "id": "d2dcc327",
   "metadata": {},
   "outputs": [
    {
     "data": {
      "text/plain": [
       "usa        11\n",
       "germany    22\n",
       "mexico     33\n",
       "franse     44\n",
       "uk         55\n",
       "spain      66\n",
       "dtype: int64"
      ]
     },
     "execution_count": 108,
     "metadata": {},
     "output_type": "execute_result"
    }
   ],
   "source": [
    "seri72"
   ]
  },
  {
   "cell_type": "code",
   "execution_count": 109,
   "id": "516dd2b4",
   "metadata": {},
   "outputs": [],
   "source": [
    "seri70=seri71+seri72"
   ]
  },
  {
   "cell_type": "code",
   "execution_count": 110,
   "id": "f0593816",
   "metadata": {},
   "outputs": [
    {
     "data": {
      "text/plain": [
       "canada      NaN\n",
       "franse     48.0\n",
       "germany    24.0\n",
       "mexico      NaN\n",
       "spain      72.0\n",
       "uk         60.0\n",
       "usa        12.0\n",
       "dtype: float64"
      ]
     },
     "execution_count": 110,
     "metadata": {},
     "output_type": "execute_result"
    }
   ],
   "source": [
    "seri70                        # index değerleri aynı olanları toplar , farklı index değerde olanları nan olarak yazar\n",
    "                              # canada ve mexico label index değerleri her iki pd.Series ta olmadıgından nan yazıldı"
   ]
  },
  {
   "cell_type": "code",
   "execution_count": 111,
   "id": "8ce90eca",
   "metadata": {},
   "outputs": [
    {
     "data": {
      "text/plain": [
       "Index(['canada', 'franse', 'germany', 'mexico', 'spain', 'uk', 'usa'], dtype='object')"
      ]
     },
     "execution_count": 111,
     "metadata": {},
     "output_type": "execute_result"
    }
   ],
   "source": [
    "seri70.index"
   ]
  },
  {
   "cell_type": "code",
   "execution_count": 112,
   "id": "9c0fe19a",
   "metadata": {},
   "outputs": [
    {
     "data": {
      "text/plain": [
       "array([nan, 48., 24., nan, 72., 60., 12.])"
      ]
     },
     "execution_count": 112,
     "metadata": {},
     "output_type": "execute_result"
    }
   ],
   "source": [
    "seri70.values"
   ]
  },
  {
   "cell_type": "code",
   "execution_count": 113,
   "id": "32b5fc5c",
   "metadata": {},
   "outputs": [
    {
     "data": {
      "text/plain": [
       "<bound method Series.items of canada      NaN\n",
       "franse     48.0\n",
       "germany    24.0\n",
       "mexico      NaN\n",
       "spain      72.0\n",
       "uk         60.0\n",
       "usa        12.0\n",
       "dtype: float64>"
      ]
     },
     "execution_count": 113,
     "metadata": {},
     "output_type": "execute_result"
    }
   ],
   "source": [
    "seri70.items"
   ]
  },
  {
   "cell_type": "code",
   "execution_count": 116,
   "id": "2a05d576",
   "metadata": {},
   "outputs": [
    {
     "name": "stdout",
     "output_type": "stream",
     "text": [
      "canada nan\n",
      "franse 48.0\n",
      "germany 24.0\n",
      "mexico nan\n",
      "spain 72.0\n",
      "uk 60.0\n",
      "usa 12.0\n"
     ]
    }
   ],
   "source": [
    "for index,values in seri70.items():\n",
    "    print(index,values)"
   ]
  },
  {
   "cell_type": "code",
   "execution_count": 117,
   "id": "011cd24d",
   "metadata": {},
   "outputs": [
    {
     "name": "stdout",
     "output_type": "stream",
     "text": [
      "canada       NaN\n",
      "franse     480.0\n",
      "germany    240.0\n",
      "mexico       NaN\n",
      "spain      720.0\n",
      "uk         600.0\n",
      "usa        120.0\n",
      "dtype: float64\n"
     ]
    }
   ],
   "source": [
    "for index,values in seri70.items():\n",
    "    seri70[index]=values*10\n",
    "print(seri70)"
   ]
  },
  {
   "cell_type": "code",
   "execution_count": null,
   "id": "39951ca7",
   "metadata": {},
   "outputs": [],
   "source": []
  },
  {
   "cell_type": "code",
   "execution_count": 119,
   "id": "3d8ea11d",
   "metadata": {},
   "outputs": [
    {
     "data": {
      "text/plain": [
       "canada       NaN\n",
       "franse     480.0\n",
       "germany    240.0\n",
       "mexico       NaN\n",
       "spain      720.0\n",
       "uk         600.0\n",
       "usa        120.0\n",
       "dtype: float64"
      ]
     },
     "execution_count": 119,
     "metadata": {},
     "output_type": "execute_result"
    }
   ],
   "source": [
    "seri70"
   ]
  },
  {
   "cell_type": "code",
   "execution_count": null,
   "id": "7fce36b5",
   "metadata": {},
   "outputs": [],
   "source": []
  },
  {
   "cell_type": "code",
   "execution_count": 120,
   "id": "69ba1741",
   "metadata": {},
   "outputs": [],
   "source": [
    "seri77=pd.Series(seri70.values,index=seri70.index)"
   ]
  },
  {
   "cell_type": "code",
   "execution_count": 121,
   "id": "427fbdde",
   "metadata": {},
   "outputs": [
    {
     "data": {
      "text/plain": [
       "canada       NaN\n",
       "franse     480.0\n",
       "germany    240.0\n",
       "mexico       NaN\n",
       "spain      720.0\n",
       "uk         600.0\n",
       "usa        120.0\n",
       "dtype: float64"
      ]
     },
     "execution_count": 121,
     "metadata": {},
     "output_type": "execute_result"
    }
   ],
   "source": [
    "seri77"
   ]
  },
  {
   "cell_type": "code",
   "execution_count": 122,
   "id": "b73b1756",
   "metadata": {},
   "outputs": [
    {
     "data": {
      "text/plain": [
       "canada      NaN\n",
       "franse     48.0\n",
       "germany    24.0\n",
       "mexico      NaN\n",
       "spain      72.0\n",
       "uk         60.0\n",
       "usa        12.0\n",
       "dtype: float64"
      ]
     },
     "execution_count": 122,
     "metadata": {},
     "output_type": "execute_result"
    }
   ],
   "source": [
    "seri77/10                               # pd.Series herhangi bir sayıya bolunur"
   ]
  },
  {
   "cell_type": "code",
   "execution_count": null,
   "id": "9e83b6fe",
   "metadata": {},
   "outputs": [],
   "source": [
    "                       "
   ]
  },
  {
   "cell_type": "code",
   "execution_count": 123,
   "id": "3d8f82e5",
   "metadata": {},
   "outputs": [
    {
     "data": {
      "text/plain": [
       "canada       NaN\n",
       "franse     480.0\n",
       "germany    240.0\n",
       "mexico       NaN\n",
       "spain      720.0\n",
       "uk         600.0\n",
       "usa        120.0\n",
       "dtype: float64"
      ]
     },
     "execution_count": 123,
     "metadata": {},
     "output_type": "execute_result"
    }
   ],
   "source": [
    "seri77"
   ]
  },
  {
   "cell_type": "code",
   "execution_count": null,
   "id": "5ba7de10",
   "metadata": {},
   "outputs": [],
   "source": []
  },
  {
   "cell_type": "code",
   "execution_count": 124,
   "id": "720018e7",
   "metadata": {},
   "outputs": [],
   "source": [
    "seri77=seri77-100                                 # cıkarma işlemi"
   ]
  },
  {
   "cell_type": "code",
   "execution_count": 125,
   "id": "f964fc84",
   "metadata": {},
   "outputs": [
    {
     "data": {
      "text/plain": [
       "canada       NaN\n",
       "franse     380.0\n",
       "germany    140.0\n",
       "mexico       NaN\n",
       "spain      620.0\n",
       "uk         500.0\n",
       "usa         20.0\n",
       "dtype: float64"
      ]
     },
     "execution_count": 125,
     "metadata": {},
     "output_type": "execute_result"
    }
   ],
   "source": [
    "seri77"
   ]
  },
  {
   "cell_type": "code",
   "execution_count": null,
   "id": "5e80bd51",
   "metadata": {},
   "outputs": [],
   "source": []
  },
  {
   "cell_type": "code",
   "execution_count": 126,
   "id": "467cac00",
   "metadata": {},
   "outputs": [
    {
     "data": {
      "text/plain": [
       "canada     False\n",
       "franse      True\n",
       "germany    False\n",
       "mexico     False\n",
       "spain       True\n",
       "uk          True\n",
       "usa        False\n",
       "dtype: bool"
      ]
     },
     "execution_count": 126,
     "metadata": {},
     "output_type": "execute_result"
    }
   ],
   "source": [
    "seri77>300                                 # pd.Series içerisindeki values ların 300 den büyüklük durumunu True/False \n",
    "                                           # olarak dondurur"
   ]
  },
  {
   "cell_type": "code",
   "execution_count": 127,
   "id": "1ed66e27",
   "metadata": {},
   "outputs": [
    {
     "data": {
      "text/plain": [
       "franse    380.0\n",
       "spain     620.0\n",
       "uk        500.0\n",
       "dtype: float64"
      ]
     },
     "execution_count": 127,
     "metadata": {},
     "output_type": "execute_result"
    }
   ],
   "source": [
    "seri77[seri77>300]                         # koşulu sağlayanları slicing yapar filtreler"
   ]
  },
  {
   "cell_type": "code",
   "execution_count": null,
   "id": "e658a7c2",
   "metadata": {},
   "outputs": [],
   "source": []
  },
  {
   "cell_type": "code",
   "execution_count": 128,
   "id": "5f040288",
   "metadata": {},
   "outputs": [],
   "source": [
    "seri77[seri77>300]=10000                    # koşulu sağlayanları istenen değere eşitledik"
   ]
  },
  {
   "cell_type": "code",
   "execution_count": 129,
   "id": "ca49d61e",
   "metadata": {},
   "outputs": [
    {
     "data": {
      "text/plain": [
       "canada         NaN\n",
       "franse     10000.0\n",
       "germany      140.0\n",
       "mexico         NaN\n",
       "spain      10000.0\n",
       "uk         10000.0\n",
       "usa           20.0\n",
       "dtype: float64"
      ]
     },
     "execution_count": 129,
     "metadata": {},
     "output_type": "execute_result"
    }
   ],
   "source": [
    "seri77"
   ]
  },
  {
   "cell_type": "code",
   "execution_count": null,
   "id": "28ea2cab",
   "metadata": {},
   "outputs": [],
   "source": []
  },
  {
   "cell_type": "code",
   "execution_count": 130,
   "id": "53b7e6bf",
   "metadata": {},
   "outputs": [],
   "source": [
    "seri77[\"uk\"]=\"birleşik krallık\""
   ]
  },
  {
   "cell_type": "code",
   "execution_count": 131,
   "id": "0ed0be57",
   "metadata": {},
   "outputs": [
    {
     "data": {
      "text/plain": [
       "canada                  NaN\n",
       "franse              10000.0\n",
       "germany               140.0\n",
       "mexico                  NaN\n",
       "spain               10000.0\n",
       "uk         birleşik krallık\n",
       "usa                    20.0\n",
       "dtype: object"
      ]
     },
     "execution_count": 131,
     "metadata": {},
     "output_type": "execute_result"
    }
   ],
   "source": [
    "seri77"
   ]
  },
  {
   "cell_type": "code",
   "execution_count": null,
   "id": "adaffd9e",
   "metadata": {},
   "outputs": [],
   "source": []
  },
  {
   "cell_type": "code",
   "execution_count": 132,
   "id": "54d1210d",
   "metadata": {
    "scrolled": true
   },
   "outputs": [
    {
     "ename": "TypeError",
     "evalue": "'>' not supported between instances of 'str' and 'int'",
     "output_type": "error",
     "traceback": [
      "\u001b[1;31m---------------------------------------------------------------------------\u001b[0m",
      "\u001b[1;31mTypeError\u001b[0m                                 Traceback (most recent call last)",
      "Input \u001b[1;32mIn [132]\u001b[0m, in \u001b[0;36m<cell line: 1>\u001b[1;34m()\u001b[0m\n\u001b[1;32m----> 1\u001b[0m \u001b[43mseri77\u001b[49m\u001b[38;5;241;43m>\u001b[39;49m\u001b[38;5;241;43m100\u001b[39;49m\n",
      "File \u001b[1;32m~\\anaconda3\\lib\\site-packages\\pandas\\core\\ops\\common.py:70\u001b[0m, in \u001b[0;36m_unpack_zerodim_and_defer.<locals>.new_method\u001b[1;34m(self, other)\u001b[0m\n\u001b[0;32m     66\u001b[0m             \u001b[38;5;28;01mreturn\u001b[39;00m \u001b[38;5;28mNotImplemented\u001b[39m\n\u001b[0;32m     68\u001b[0m other \u001b[38;5;241m=\u001b[39m item_from_zerodim(other)\n\u001b[1;32m---> 70\u001b[0m \u001b[38;5;28;01mreturn\u001b[39;00m \u001b[43mmethod\u001b[49m\u001b[43m(\u001b[49m\u001b[38;5;28;43mself\u001b[39;49m\u001b[43m,\u001b[49m\u001b[43m \u001b[49m\u001b[43mother\u001b[49m\u001b[43m)\u001b[49m\n",
      "File \u001b[1;32m~\\anaconda3\\lib\\site-packages\\pandas\\core\\arraylike.py:56\u001b[0m, in \u001b[0;36mOpsMixin.__gt__\u001b[1;34m(self, other)\u001b[0m\n\u001b[0;32m     54\u001b[0m \u001b[38;5;129m@unpack_zerodim_and_defer\u001b[39m(\u001b[38;5;124m\"\u001b[39m\u001b[38;5;124m__gt__\u001b[39m\u001b[38;5;124m\"\u001b[39m)\n\u001b[0;32m     55\u001b[0m \u001b[38;5;28;01mdef\u001b[39;00m \u001b[38;5;21m__gt__\u001b[39m(\u001b[38;5;28mself\u001b[39m, other):\n\u001b[1;32m---> 56\u001b[0m     \u001b[38;5;28;01mreturn\u001b[39;00m \u001b[38;5;28;43mself\u001b[39;49m\u001b[38;5;241;43m.\u001b[39;49m\u001b[43m_cmp_method\u001b[49m\u001b[43m(\u001b[49m\u001b[43mother\u001b[49m\u001b[43m,\u001b[49m\u001b[43m \u001b[49m\u001b[43moperator\u001b[49m\u001b[38;5;241;43m.\u001b[39;49m\u001b[43mgt\u001b[49m\u001b[43m)\u001b[49m\n",
      "File \u001b[1;32m~\\anaconda3\\lib\\site-packages\\pandas\\core\\series.py:5623\u001b[0m, in \u001b[0;36mSeries._cmp_method\u001b[1;34m(self, other, op)\u001b[0m\n\u001b[0;32m   5620\u001b[0m rvalues \u001b[38;5;241m=\u001b[39m extract_array(other, extract_numpy\u001b[38;5;241m=\u001b[39m\u001b[38;5;28;01mTrue\u001b[39;00m, extract_range\u001b[38;5;241m=\u001b[39m\u001b[38;5;28;01mTrue\u001b[39;00m)\n\u001b[0;32m   5622\u001b[0m \u001b[38;5;28;01mwith\u001b[39;00m np\u001b[38;5;241m.\u001b[39merrstate(\u001b[38;5;28mall\u001b[39m\u001b[38;5;241m=\u001b[39m\u001b[38;5;124m\"\u001b[39m\u001b[38;5;124mignore\u001b[39m\u001b[38;5;124m\"\u001b[39m):\n\u001b[1;32m-> 5623\u001b[0m     res_values \u001b[38;5;241m=\u001b[39m \u001b[43mops\u001b[49m\u001b[38;5;241;43m.\u001b[39;49m\u001b[43mcomparison_op\u001b[49m\u001b[43m(\u001b[49m\u001b[43mlvalues\u001b[49m\u001b[43m,\u001b[49m\u001b[43m \u001b[49m\u001b[43mrvalues\u001b[49m\u001b[43m,\u001b[49m\u001b[43m \u001b[49m\u001b[43mop\u001b[49m\u001b[43m)\u001b[49m\n\u001b[0;32m   5625\u001b[0m \u001b[38;5;28;01mreturn\u001b[39;00m \u001b[38;5;28mself\u001b[39m\u001b[38;5;241m.\u001b[39m_construct_result(res_values, name\u001b[38;5;241m=\u001b[39mres_name)\n",
      "File \u001b[1;32m~\\anaconda3\\lib\\site-packages\\pandas\\core\\ops\\array_ops.py:283\u001b[0m, in \u001b[0;36mcomparison_op\u001b[1;34m(left, right, op)\u001b[0m\n\u001b[0;32m    280\u001b[0m     \u001b[38;5;28;01mreturn\u001b[39;00m invalid_comparison(lvalues, rvalues, op)\n\u001b[0;32m    282\u001b[0m \u001b[38;5;28;01melif\u001b[39;00m is_object_dtype(lvalues\u001b[38;5;241m.\u001b[39mdtype) \u001b[38;5;129;01mor\u001b[39;00m \u001b[38;5;28misinstance\u001b[39m(rvalues, \u001b[38;5;28mstr\u001b[39m):\n\u001b[1;32m--> 283\u001b[0m     res_values \u001b[38;5;241m=\u001b[39m \u001b[43mcomp_method_OBJECT_ARRAY\u001b[49m\u001b[43m(\u001b[49m\u001b[43mop\u001b[49m\u001b[43m,\u001b[49m\u001b[43m \u001b[49m\u001b[43mlvalues\u001b[49m\u001b[43m,\u001b[49m\u001b[43m \u001b[49m\u001b[43mrvalues\u001b[49m\u001b[43m)\u001b[49m\n\u001b[0;32m    285\u001b[0m \u001b[38;5;28;01melse\u001b[39;00m:\n\u001b[0;32m    286\u001b[0m     res_values \u001b[38;5;241m=\u001b[39m _na_arithmetic_op(lvalues, rvalues, op, is_cmp\u001b[38;5;241m=\u001b[39m\u001b[38;5;28;01mTrue\u001b[39;00m)\n",
      "File \u001b[1;32m~\\anaconda3\\lib\\site-packages\\pandas\\core\\ops\\array_ops.py:73\u001b[0m, in \u001b[0;36mcomp_method_OBJECT_ARRAY\u001b[1;34m(op, x, y)\u001b[0m\n\u001b[0;32m     71\u001b[0m     result \u001b[38;5;241m=\u001b[39m libops\u001b[38;5;241m.\u001b[39mvec_compare(x\u001b[38;5;241m.\u001b[39mravel(), y\u001b[38;5;241m.\u001b[39mravel(), op)\n\u001b[0;32m     72\u001b[0m \u001b[38;5;28;01melse\u001b[39;00m:\n\u001b[1;32m---> 73\u001b[0m     result \u001b[38;5;241m=\u001b[39m \u001b[43mlibops\u001b[49m\u001b[38;5;241;43m.\u001b[39;49m\u001b[43mscalar_compare\u001b[49m\u001b[43m(\u001b[49m\u001b[43mx\u001b[49m\u001b[38;5;241;43m.\u001b[39;49m\u001b[43mravel\u001b[49m\u001b[43m(\u001b[49m\u001b[43m)\u001b[49m\u001b[43m,\u001b[49m\u001b[43m \u001b[49m\u001b[43my\u001b[49m\u001b[43m,\u001b[49m\u001b[43m \u001b[49m\u001b[43mop\u001b[49m\u001b[43m)\u001b[49m\n\u001b[0;32m     74\u001b[0m \u001b[38;5;28;01mreturn\u001b[39;00m result\u001b[38;5;241m.\u001b[39mreshape(x\u001b[38;5;241m.\u001b[39mshape)\n",
      "File \u001b[1;32m~\\anaconda3\\lib\\site-packages\\pandas\\_libs\\ops.pyx:107\u001b[0m, in \u001b[0;36mpandas._libs.ops.scalar_compare\u001b[1;34m()\u001b[0m\n",
      "\u001b[1;31mTypeError\u001b[0m: '>' not supported between instances of 'str' and 'int'"
     ]
    }
   ],
   "source": [
    "seri77>100                             # pd.Series in values değerlerinde string ifade oldugundan dtype i object oldu\n",
    "                                       # koşul kontrolu yapamıyor hata veriyor"
   ]
  },
  {
   "cell_type": "code",
   "execution_count": null,
   "id": "2990befb",
   "metadata": {},
   "outputs": [],
   "source": []
  },
  {
   "cell_type": "code",
   "execution_count": null,
   "id": "4704936e",
   "metadata": {},
   "outputs": [],
   "source": []
  },
  {
   "cell_type": "code",
   "execution_count": null,
   "id": "41b4ec0a",
   "metadata": {},
   "outputs": [],
   "source": [
    "# bir değerin pd.Series içerisinde olup olmadığının sorgulanması"
   ]
  },
  {
   "cell_type": "code",
   "execution_count": 133,
   "id": "61b34115",
   "metadata": {},
   "outputs": [],
   "source": [
    "seri8=pd.Series([11,np.nan,33,44,np.nan,66], index=[\"usa\",\"germany\",\"mexico\",\"franse\",\"uk\",\"spain\"])"
   ]
  },
  {
   "cell_type": "code",
   "execution_count": 134,
   "id": "d1013d01",
   "metadata": {},
   "outputs": [
    {
     "data": {
      "text/plain": [
       "usa        11.0\n",
       "germany     NaN\n",
       "mexico     33.0\n",
       "franse     44.0\n",
       "uk          NaN\n",
       "spain      66.0\n",
       "dtype: float64"
      ]
     },
     "execution_count": 134,
     "metadata": {},
     "output_type": "execute_result"
    }
   ],
   "source": [
    "seri8"
   ]
  },
  {
   "cell_type": "code",
   "execution_count": 135,
   "id": "040348af",
   "metadata": {},
   "outputs": [
    {
     "data": {
      "text/plain": [
       "True"
      ]
     },
     "execution_count": 135,
     "metadata": {},
     "output_type": "execute_result"
    }
   ],
   "source": [
    "\"usa\" in seri8                      # label index lerde sorgulama"
   ]
  },
  {
   "cell_type": "code",
   "execution_count": 136,
   "id": "ece9b958",
   "metadata": {},
   "outputs": [
    {
     "data": {
      "text/plain": [
       "True"
      ]
     },
     "execution_count": 136,
     "metadata": {},
     "output_type": "execute_result"
    }
   ],
   "source": [
    "\"germany\" in seri8.index            # label index lerde sorgulama"
   ]
  },
  {
   "cell_type": "code",
   "execution_count": 137,
   "id": "4ddbf8f3",
   "metadata": {},
   "outputs": [
    {
     "data": {
      "text/plain": [
       "False"
      ]
     },
     "execution_count": 137,
     "metadata": {},
     "output_type": "execute_result"
    }
   ],
   "source": [
    "11 in seri8                         # label index lerde sorgulama"
   ]
  },
  {
   "cell_type": "code",
   "execution_count": null,
   "id": "11b9e3c4",
   "metadata": {},
   "outputs": [],
   "source": []
  },
  {
   "cell_type": "code",
   "execution_count": 138,
   "id": "2c3149cc",
   "metadata": {},
   "outputs": [
    {
     "data": {
      "text/plain": [
       "True"
      ]
     },
     "execution_count": 138,
     "metadata": {},
     "output_type": "execute_result"
    }
   ],
   "source": [
    "11 in seri8.values                  # values larda sorgulama"
   ]
  },
  {
   "cell_type": "code",
   "execution_count": 139,
   "id": "a6b1b29b",
   "metadata": {},
   "outputs": [
    {
     "data": {
      "text/plain": [
       "True"
      ]
     },
     "execution_count": 139,
     "metadata": {},
     "output_type": "execute_result"
    }
   ],
   "source": [
    "66 in seri8.values                  # values larda sorgulama"
   ]
  },
  {
   "cell_type": "code",
   "execution_count": 140,
   "id": "f53068b2",
   "metadata": {},
   "outputs": [
    {
     "name": "stderr",
     "output_type": "stream",
     "text": [
      "C:\\Users\\honor\\AppData\\Local\\Temp\\ipykernel_9568\\2837610177.py:1: FutureWarning: elementwise comparison failed; returning scalar instead, but in the future will perform elementwise comparison\n",
      "  \"usa\" in seri8.values               # values larda sorgulama\n"
     ]
    },
    {
     "data": {
      "text/plain": [
       "False"
      ]
     },
     "execution_count": 140,
     "metadata": {},
     "output_type": "execute_result"
    }
   ],
   "source": [
    "\"usa\" in seri8.values               # values larda sorgulama"
   ]
  },
  {
   "cell_type": "code",
   "execution_count": null,
   "id": "b1bcf803",
   "metadata": {},
   "outputs": [],
   "source": []
  },
  {
   "cell_type": "code",
   "execution_count": null,
   "id": "80494a18",
   "metadata": {},
   "outputs": [],
   "source": []
  },
  {
   "cell_type": "markdown",
   "id": "b4dbf34d",
   "metadata": {},
   "source": [
    "# hasnans"
   ]
  },
  {
   "cell_type": "code",
   "execution_count": 141,
   "id": "035de26e",
   "metadata": {},
   "outputs": [
    {
     "data": {
      "text/plain": [
       "True"
      ]
     },
     "execution_count": 141,
     "metadata": {},
     "output_type": "execute_result"
    }
   ],
   "source": [
    "seri8.hasnans                       # values larda nan varmı onu sorgular"
   ]
  },
  {
   "cell_type": "code",
   "execution_count": null,
   "id": "4f50aaaf",
   "metadata": {},
   "outputs": [],
   "source": []
  },
  {
   "cell_type": "markdown",
   "id": "868a5658",
   "metadata": {},
   "source": [
    "# isna()"
   ]
  },
  {
   "cell_type": "code",
   "execution_count": 142,
   "id": "48ec1e0f",
   "metadata": {},
   "outputs": [
    {
     "data": {
      "text/plain": [
       "usa        False\n",
       "germany     True\n",
       "mexico     False\n",
       "franse     False\n",
       "uk          True\n",
       "spain      False\n",
       "dtype: bool"
      ]
     },
     "execution_count": 142,
     "metadata": {},
     "output_type": "execute_result"
    }
   ],
   "source": [
    "seri8.isna()                        # values larda her bir index için nan varmı sorgular True/False dondurur"
   ]
  },
  {
   "cell_type": "code",
   "execution_count": 143,
   "id": "ba56a843",
   "metadata": {},
   "outputs": [
    {
     "data": {
      "text/plain": [
       "germany   NaN\n",
       "uk        NaN\n",
       "dtype: float64"
      ]
     },
     "execution_count": 143,
     "metadata": {},
     "output_type": "execute_result"
    }
   ],
   "source": [
    "seri8[seri8.isna()]                 # nan olanları slicing ile filtreleme"
   ]
  },
  {
   "cell_type": "code",
   "execution_count": null,
   "id": "4d25958c",
   "metadata": {},
   "outputs": [],
   "source": []
  },
  {
   "cell_type": "code",
   "execution_count": 144,
   "id": "ac510727",
   "metadata": {},
   "outputs": [
    {
     "data": {
      "text/plain": [
       "usa       11.0\n",
       "mexico    33.0\n",
       "franse    44.0\n",
       "spain     66.0\n",
       "dtype: float64"
      ]
     },
     "execution_count": 144,
     "metadata": {},
     "output_type": "execute_result"
    }
   ],
   "source": [
    "seri8[seri8.isna()==False]          # nan olmayanları slicing ile filtreleme"
   ]
  },
  {
   "cell_type": "code",
   "execution_count": null,
   "id": "7a923aa8",
   "metadata": {},
   "outputs": [],
   "source": []
  },
  {
   "cell_type": "markdown",
   "id": "8a13efe7",
   "metadata": {},
   "source": [
    "# isin()"
   ]
  },
  {
   "cell_type": "code",
   "execution_count": 145,
   "id": "459966af",
   "metadata": {},
   "outputs": [
    {
     "data": {
      "text/plain": [
       "usa        False\n",
       "germany    False\n",
       "mexico     False\n",
       "franse     False\n",
       "uk         False\n",
       "spain       True\n",
       "dtype: bool"
      ]
     },
     "execution_count": 145,
     "metadata": {},
     "output_type": "execute_result"
    }
   ],
   "source": [
    "seri8.isin([66])                    # values larda her bir index te istenen değer varmı sorgular True/False dondurur\n",
    "                                    # aranan değer [] içinde yazılır, birden fazla değer aranacaksa , ile ayrılarak yazılır"
   ]
  },
  {
   "cell_type": "code",
   "execution_count": 146,
   "id": "1c86d5b3",
   "metadata": {},
   "outputs": [
    {
     "data": {
      "text/plain": [
       "spain    66.0\n",
       "dtype: float64"
      ]
     },
     "execution_count": 146,
     "metadata": {},
     "output_type": "execute_result"
    }
   ],
   "source": [
    "seri8[seri8.isin([66])]"
   ]
  },
  {
   "cell_type": "code",
   "execution_count": 147,
   "id": "7b3f6c85",
   "metadata": {},
   "outputs": [
    {
     "data": {
      "text/plain": [
       "usa        11.0\n",
       "germany     NaN\n",
       "mexico     33.0\n",
       "franse     44.0\n",
       "uk          NaN\n",
       "dtype: float64"
      ]
     },
     "execution_count": 147,
     "metadata": {},
     "output_type": "execute_result"
    }
   ],
   "source": [
    "seri8[seri8.isin([66])==False]"
   ]
  },
  {
   "cell_type": "code",
   "execution_count": null,
   "id": "35390428",
   "metadata": {},
   "outputs": [],
   "source": []
  },
  {
   "cell_type": "markdown",
   "id": "fdc5ed1f",
   "metadata": {},
   "source": [
    "# is_unique"
   ]
  },
  {
   "cell_type": "code",
   "execution_count": 148,
   "id": "4ed8ec2b",
   "metadata": {},
   "outputs": [
    {
     "data": {
      "text/plain": [
       "False"
      ]
     },
     "execution_count": 148,
     "metadata": {},
     "output_type": "execute_result"
    }
   ],
   "source": [
    "seri8.is_unique                  # pd.Series taki tüm elemanlar unique mi onu sorgular. benzer elemanlar varsa False"
   ]
  },
  {
   "cell_type": "code",
   "execution_count": null,
   "id": "74e49a05",
   "metadata": {},
   "outputs": [],
   "source": []
  },
  {
   "cell_type": "markdown",
   "id": "dbd3a0b4",
   "metadata": {},
   "source": [
    "# pd.Series a isim verme ve değiştirme"
   ]
  },
  {
   "cell_type": "code",
   "execution_count": 149,
   "id": "fabf3364",
   "metadata": {},
   "outputs": [],
   "source": [
    "seri88=pd.Series([11,22,33,44,55,66,77], index=[\"usa\",\"germany\",\"mexico\",\"franse\",\"uk\",\"spain\",\"turkey\"], name=\"countries\")"
   ]
  },
  {
   "cell_type": "code",
   "execution_count": 150,
   "id": "e90a0f33",
   "metadata": {},
   "outputs": [
    {
     "data": {
      "text/plain": [
       "usa        11\n",
       "germany    22\n",
       "mexico     33\n",
       "franse     44\n",
       "uk         55\n",
       "spain      66\n",
       "turkey     77\n",
       "Name: countries, dtype: int64"
      ]
     },
     "execution_count": 150,
     "metadata": {},
     "output_type": "execute_result"
    }
   ],
   "source": [
    "seri88"
   ]
  },
  {
   "cell_type": "code",
   "execution_count": 151,
   "id": "e94abfd7",
   "metadata": {},
   "outputs": [],
   "source": [
    "seri88.name=\"ülkeler\""
   ]
  },
  {
   "cell_type": "code",
   "execution_count": 152,
   "id": "ac65d31e",
   "metadata": {},
   "outputs": [
    {
     "data": {
      "text/plain": [
       "usa        11\n",
       "germany    22\n",
       "mexico     33\n",
       "franse     44\n",
       "uk         55\n",
       "spain      66\n",
       "turkey     77\n",
       "Name: ülkeler, dtype: int64"
      ]
     },
     "execution_count": 152,
     "metadata": {},
     "output_type": "execute_result"
    }
   ],
   "source": [
    "seri88"
   ]
  },
  {
   "cell_type": "code",
   "execution_count": null,
   "id": "50dd6c57",
   "metadata": {},
   "outputs": [],
   "source": []
  },
  {
   "cell_type": "markdown",
   "id": "f0501926",
   "metadata": {},
   "source": [
    "# pd.Series teki bir values değeri değiştirme"
   ]
  },
  {
   "cell_type": "code",
   "execution_count": 153,
   "id": "b184db10",
   "metadata": {},
   "outputs": [],
   "source": [
    "seri9=pd.Series([11,22,33,44,55,66,77], index=[\"usa\",\"germany\",\"mexico\",\"franse\",\"uk\",\"spain\",\"turkey\"])"
   ]
  },
  {
   "cell_type": "code",
   "execution_count": 154,
   "id": "72900e9e",
   "metadata": {},
   "outputs": [
    {
     "data": {
      "text/plain": [
       "usa        11\n",
       "germany    22\n",
       "mexico     33\n",
       "franse     44\n",
       "uk         55\n",
       "spain      66\n",
       "turkey     77\n",
       "dtype: int64"
      ]
     },
     "execution_count": 154,
     "metadata": {},
     "output_type": "execute_result"
    }
   ],
   "source": [
    "seri9"
   ]
  },
  {
   "cell_type": "code",
   "execution_count": 155,
   "id": "d8e4616f",
   "metadata": {},
   "outputs": [],
   "source": [
    "seri9[\"germany\"]=99999"
   ]
  },
  {
   "cell_type": "code",
   "execution_count": 156,
   "id": "301a2c67",
   "metadata": {},
   "outputs": [
    {
     "data": {
      "text/plain": [
       "usa           11\n",
       "germany    99999\n",
       "mexico        33\n",
       "franse        44\n",
       "uk            55\n",
       "spain         66\n",
       "turkey        77\n",
       "dtype: int64"
      ]
     },
     "execution_count": 156,
     "metadata": {},
     "output_type": "execute_result"
    }
   ],
   "source": [
    "seri9"
   ]
  },
  {
   "cell_type": "code",
   "execution_count": 157,
   "id": "501c2a80",
   "metadata": {},
   "outputs": [],
   "source": [
    "seri9[\"spain\"]=\"ispanya\"               # values lardan biri string tipte olunca pd.Series in dtype i object oldu buna dikkat\n",
    "                                    "
   ]
  },
  {
   "cell_type": "code",
   "execution_count": 158,
   "id": "fafa79bc",
   "metadata": {},
   "outputs": [
    {
     "data": {
      "text/plain": [
       "usa             11\n",
       "germany      99999\n",
       "mexico          33\n",
       "franse          44\n",
       "uk              55\n",
       "spain      ispanya\n",
       "turkey          77\n",
       "dtype: object"
      ]
     },
     "execution_count": 158,
     "metadata": {},
     "output_type": "execute_result"
    }
   ],
   "source": [
    "seri9"
   ]
  },
  {
   "cell_type": "code",
   "execution_count": 159,
   "id": "23c8c61c",
   "metadata": {},
   "outputs": [
    {
     "data": {
      "text/plain": [
       "usa                           33\n",
       "germany                   299997\n",
       "mexico                        99\n",
       "franse                       132\n",
       "uk                           165\n",
       "spain      ispanyaispanyaispanya\n",
       "turkey                       231\n",
       "dtype: object"
      ]
     },
     "execution_count": 159,
     "metadata": {},
     "output_type": "execute_result"
    }
   ],
   "source": [
    "seri9*3"
   ]
  },
  {
   "cell_type": "code",
   "execution_count": 160,
   "id": "060fc16e",
   "metadata": {},
   "outputs": [
    {
     "ename": "TypeError",
     "evalue": "can only concatenate str (not \"int\") to str",
     "output_type": "error",
     "traceback": [
      "\u001b[1;31m---------------------------------------------------------------------------\u001b[0m",
      "\u001b[1;31mTypeError\u001b[0m                                 Traceback (most recent call last)",
      "File \u001b[1;32m~\\anaconda3\\lib\\site-packages\\pandas\\core\\ops\\array_ops.py:163\u001b[0m, in \u001b[0;36m_na_arithmetic_op\u001b[1;34m(left, right, op, is_cmp)\u001b[0m\n\u001b[0;32m    162\u001b[0m \u001b[38;5;28;01mtry\u001b[39;00m:\n\u001b[1;32m--> 163\u001b[0m     result \u001b[38;5;241m=\u001b[39m \u001b[43mfunc\u001b[49m\u001b[43m(\u001b[49m\u001b[43mleft\u001b[49m\u001b[43m,\u001b[49m\u001b[43m \u001b[49m\u001b[43mright\u001b[49m\u001b[43m)\u001b[49m\n\u001b[0;32m    164\u001b[0m \u001b[38;5;28;01mexcept\u001b[39;00m \u001b[38;5;167;01mTypeError\u001b[39;00m:\n",
      "File \u001b[1;32m~\\anaconda3\\lib\\site-packages\\pandas\\core\\computation\\expressions.py:239\u001b[0m, in \u001b[0;36mevaluate\u001b[1;34m(op, a, b, use_numexpr)\u001b[0m\n\u001b[0;32m    237\u001b[0m     \u001b[38;5;28;01mif\u001b[39;00m use_numexpr:\n\u001b[0;32m    238\u001b[0m         \u001b[38;5;66;03m# error: \"None\" not callable\u001b[39;00m\n\u001b[1;32m--> 239\u001b[0m         \u001b[38;5;28;01mreturn\u001b[39;00m \u001b[43m_evaluate\u001b[49m\u001b[43m(\u001b[49m\u001b[43mop\u001b[49m\u001b[43m,\u001b[49m\u001b[43m \u001b[49m\u001b[43mop_str\u001b[49m\u001b[43m,\u001b[49m\u001b[43m \u001b[49m\u001b[43ma\u001b[49m\u001b[43m,\u001b[49m\u001b[43m \u001b[49m\u001b[43mb\u001b[49m\u001b[43m)\u001b[49m  \u001b[38;5;66;03m# type: ignore[misc]\u001b[39;00m\n\u001b[0;32m    240\u001b[0m \u001b[38;5;28;01mreturn\u001b[39;00m _evaluate_standard(op, op_str, a, b)\n",
      "File \u001b[1;32m~\\anaconda3\\lib\\site-packages\\pandas\\core\\computation\\expressions.py:128\u001b[0m, in \u001b[0;36m_evaluate_numexpr\u001b[1;34m(op, op_str, a, b)\u001b[0m\n\u001b[0;32m    127\u001b[0m \u001b[38;5;28;01mif\u001b[39;00m result \u001b[38;5;129;01mis\u001b[39;00m \u001b[38;5;28;01mNone\u001b[39;00m:\n\u001b[1;32m--> 128\u001b[0m     result \u001b[38;5;241m=\u001b[39m \u001b[43m_evaluate_standard\u001b[49m\u001b[43m(\u001b[49m\u001b[43mop\u001b[49m\u001b[43m,\u001b[49m\u001b[43m \u001b[49m\u001b[43mop_str\u001b[49m\u001b[43m,\u001b[49m\u001b[43m \u001b[49m\u001b[43ma\u001b[49m\u001b[43m,\u001b[49m\u001b[43m \u001b[49m\u001b[43mb\u001b[49m\u001b[43m)\u001b[49m\n\u001b[0;32m    130\u001b[0m \u001b[38;5;28;01mreturn\u001b[39;00m result\n",
      "File \u001b[1;32m~\\anaconda3\\lib\\site-packages\\pandas\\core\\computation\\expressions.py:69\u001b[0m, in \u001b[0;36m_evaluate_standard\u001b[1;34m(op, op_str, a, b)\u001b[0m\n\u001b[0;32m     68\u001b[0m     _store_test_result(\u001b[38;5;28;01mFalse\u001b[39;00m)\n\u001b[1;32m---> 69\u001b[0m \u001b[38;5;28;01mreturn\u001b[39;00m \u001b[43mop\u001b[49m\u001b[43m(\u001b[49m\u001b[43ma\u001b[49m\u001b[43m,\u001b[49m\u001b[43m \u001b[49m\u001b[43mb\u001b[49m\u001b[43m)\u001b[49m\n",
      "\u001b[1;31mTypeError\u001b[0m: can only concatenate str (not \"int\") to str",
      "\nDuring handling of the above exception, another exception occurred:\n",
      "\u001b[1;31mTypeError\u001b[0m                                 Traceback (most recent call last)",
      "Input \u001b[1;32mIn [160]\u001b[0m, in \u001b[0;36m<cell line: 1>\u001b[1;34m()\u001b[0m\n\u001b[1;32m----> 1\u001b[0m \u001b[43mseri9\u001b[49m\u001b[38;5;241;43m+\u001b[39;49m\u001b[38;5;241;43m50\u001b[39;49m\n",
      "File \u001b[1;32m~\\anaconda3\\lib\\site-packages\\pandas\\core\\ops\\common.py:70\u001b[0m, in \u001b[0;36m_unpack_zerodim_and_defer.<locals>.new_method\u001b[1;34m(self, other)\u001b[0m\n\u001b[0;32m     66\u001b[0m             \u001b[38;5;28;01mreturn\u001b[39;00m \u001b[38;5;28mNotImplemented\u001b[39m\n\u001b[0;32m     68\u001b[0m other \u001b[38;5;241m=\u001b[39m item_from_zerodim(other)\n\u001b[1;32m---> 70\u001b[0m \u001b[38;5;28;01mreturn\u001b[39;00m \u001b[43mmethod\u001b[49m\u001b[43m(\u001b[49m\u001b[38;5;28;43mself\u001b[39;49m\u001b[43m,\u001b[49m\u001b[43m \u001b[49m\u001b[43mother\u001b[49m\u001b[43m)\u001b[49m\n",
      "File \u001b[1;32m~\\anaconda3\\lib\\site-packages\\pandas\\core\\arraylike.py:100\u001b[0m, in \u001b[0;36mOpsMixin.__add__\u001b[1;34m(self, other)\u001b[0m\n\u001b[0;32m     98\u001b[0m \u001b[38;5;129m@unpack_zerodim_and_defer\u001b[39m(\u001b[38;5;124m\"\u001b[39m\u001b[38;5;124m__add__\u001b[39m\u001b[38;5;124m\"\u001b[39m)\n\u001b[0;32m     99\u001b[0m \u001b[38;5;28;01mdef\u001b[39;00m \u001b[38;5;21m__add__\u001b[39m(\u001b[38;5;28mself\u001b[39m, other):\n\u001b[1;32m--> 100\u001b[0m     \u001b[38;5;28;01mreturn\u001b[39;00m \u001b[38;5;28;43mself\u001b[39;49m\u001b[38;5;241;43m.\u001b[39;49m\u001b[43m_arith_method\u001b[49m\u001b[43m(\u001b[49m\u001b[43mother\u001b[49m\u001b[43m,\u001b[49m\u001b[43m \u001b[49m\u001b[43moperator\u001b[49m\u001b[38;5;241;43m.\u001b[39;49m\u001b[43madd\u001b[49m\u001b[43m)\u001b[49m\n",
      "File \u001b[1;32m~\\anaconda3\\lib\\site-packages\\pandas\\core\\series.py:5639\u001b[0m, in \u001b[0;36mSeries._arith_method\u001b[1;34m(self, other, op)\u001b[0m\n\u001b[0;32m   5637\u001b[0m \u001b[38;5;28;01mdef\u001b[39;00m \u001b[38;5;21m_arith_method\u001b[39m(\u001b[38;5;28mself\u001b[39m, other, op):\n\u001b[0;32m   5638\u001b[0m     \u001b[38;5;28mself\u001b[39m, other \u001b[38;5;241m=\u001b[39m ops\u001b[38;5;241m.\u001b[39malign_method_SERIES(\u001b[38;5;28mself\u001b[39m, other)\n\u001b[1;32m-> 5639\u001b[0m     \u001b[38;5;28;01mreturn\u001b[39;00m \u001b[43mbase\u001b[49m\u001b[38;5;241;43m.\u001b[39;49m\u001b[43mIndexOpsMixin\u001b[49m\u001b[38;5;241;43m.\u001b[39;49m\u001b[43m_arith_method\u001b[49m\u001b[43m(\u001b[49m\u001b[38;5;28;43mself\u001b[39;49m\u001b[43m,\u001b[49m\u001b[43m \u001b[49m\u001b[43mother\u001b[49m\u001b[43m,\u001b[49m\u001b[43m \u001b[49m\u001b[43mop\u001b[49m\u001b[43m)\u001b[49m\n",
      "File \u001b[1;32m~\\anaconda3\\lib\\site-packages\\pandas\\core\\base.py:1295\u001b[0m, in \u001b[0;36mIndexOpsMixin._arith_method\u001b[1;34m(self, other, op)\u001b[0m\n\u001b[0;32m   1292\u001b[0m rvalues \u001b[38;5;241m=\u001b[39m ensure_wrapped_if_datetimelike(rvalues)\n\u001b[0;32m   1294\u001b[0m \u001b[38;5;28;01mwith\u001b[39;00m np\u001b[38;5;241m.\u001b[39merrstate(\u001b[38;5;28mall\u001b[39m\u001b[38;5;241m=\u001b[39m\u001b[38;5;124m\"\u001b[39m\u001b[38;5;124mignore\u001b[39m\u001b[38;5;124m\"\u001b[39m):\n\u001b[1;32m-> 1295\u001b[0m     result \u001b[38;5;241m=\u001b[39m \u001b[43mops\u001b[49m\u001b[38;5;241;43m.\u001b[39;49m\u001b[43marithmetic_op\u001b[49m\u001b[43m(\u001b[49m\u001b[43mlvalues\u001b[49m\u001b[43m,\u001b[49m\u001b[43m \u001b[49m\u001b[43mrvalues\u001b[49m\u001b[43m,\u001b[49m\u001b[43m \u001b[49m\u001b[43mop\u001b[49m\u001b[43m)\u001b[49m\n\u001b[0;32m   1297\u001b[0m \u001b[38;5;28;01mreturn\u001b[39;00m \u001b[38;5;28mself\u001b[39m\u001b[38;5;241m.\u001b[39m_construct_result(result, name\u001b[38;5;241m=\u001b[39mres_name)\n",
      "File \u001b[1;32m~\\anaconda3\\lib\\site-packages\\pandas\\core\\ops\\array_ops.py:222\u001b[0m, in \u001b[0;36marithmetic_op\u001b[1;34m(left, right, op)\u001b[0m\n\u001b[0;32m    217\u001b[0m \u001b[38;5;28;01melse\u001b[39;00m:\n\u001b[0;32m    218\u001b[0m     \u001b[38;5;66;03m# TODO we should handle EAs consistently and move this check before the if/else\u001b[39;00m\n\u001b[0;32m    219\u001b[0m     \u001b[38;5;66;03m# (https://github.com/pandas-dev/pandas/issues/41165)\u001b[39;00m\n\u001b[0;32m    220\u001b[0m     _bool_arith_check(op, left, right)\n\u001b[1;32m--> 222\u001b[0m     res_values \u001b[38;5;241m=\u001b[39m \u001b[43m_na_arithmetic_op\u001b[49m\u001b[43m(\u001b[49m\u001b[43mleft\u001b[49m\u001b[43m,\u001b[49m\u001b[43m \u001b[49m\u001b[43mright\u001b[49m\u001b[43m,\u001b[49m\u001b[43m \u001b[49m\u001b[43mop\u001b[49m\u001b[43m)\u001b[49m\n\u001b[0;32m    224\u001b[0m \u001b[38;5;28;01mreturn\u001b[39;00m res_values\n",
      "File \u001b[1;32m~\\anaconda3\\lib\\site-packages\\pandas\\core\\ops\\array_ops.py:170\u001b[0m, in \u001b[0;36m_na_arithmetic_op\u001b[1;34m(left, right, op, is_cmp)\u001b[0m\n\u001b[0;32m    164\u001b[0m \u001b[38;5;28;01mexcept\u001b[39;00m \u001b[38;5;167;01mTypeError\u001b[39;00m:\n\u001b[0;32m    165\u001b[0m     \u001b[38;5;28;01mif\u001b[39;00m \u001b[38;5;129;01mnot\u001b[39;00m is_cmp \u001b[38;5;129;01mand\u001b[39;00m (is_object_dtype(left\u001b[38;5;241m.\u001b[39mdtype) \u001b[38;5;129;01mor\u001b[39;00m is_object_dtype(right)):\n\u001b[0;32m    166\u001b[0m         \u001b[38;5;66;03m# For object dtype, fallback to a masked operation (only operating\u001b[39;00m\n\u001b[0;32m    167\u001b[0m         \u001b[38;5;66;03m#  on the non-missing values)\u001b[39;00m\n\u001b[0;32m    168\u001b[0m         \u001b[38;5;66;03m# Don't do this for comparisons, as that will handle complex numbers\u001b[39;00m\n\u001b[0;32m    169\u001b[0m         \u001b[38;5;66;03m#  incorrectly, see GH#32047\u001b[39;00m\n\u001b[1;32m--> 170\u001b[0m         result \u001b[38;5;241m=\u001b[39m \u001b[43m_masked_arith_op\u001b[49m\u001b[43m(\u001b[49m\u001b[43mleft\u001b[49m\u001b[43m,\u001b[49m\u001b[43m \u001b[49m\u001b[43mright\u001b[49m\u001b[43m,\u001b[49m\u001b[43m \u001b[49m\u001b[43mop\u001b[49m\u001b[43m)\u001b[49m\n\u001b[0;32m    171\u001b[0m     \u001b[38;5;28;01melse\u001b[39;00m:\n\u001b[0;32m    172\u001b[0m         \u001b[38;5;28;01mraise\u001b[39;00m\n",
      "File \u001b[1;32m~\\anaconda3\\lib\\site-packages\\pandas\\core\\ops\\array_ops.py:127\u001b[0m, in \u001b[0;36m_masked_arith_op\u001b[1;34m(x, y, op)\u001b[0m\n\u001b[0;32m    124\u001b[0m         mask \u001b[38;5;241m=\u001b[39m np\u001b[38;5;241m.\u001b[39mwhere(y \u001b[38;5;241m==\u001b[39m \u001b[38;5;241m1\u001b[39m, \u001b[38;5;28;01mFalse\u001b[39;00m, mask)\n\u001b[0;32m    126\u001b[0m     \u001b[38;5;28;01mif\u001b[39;00m mask\u001b[38;5;241m.\u001b[39many():\n\u001b[1;32m--> 127\u001b[0m         result[mask] \u001b[38;5;241m=\u001b[39m \u001b[43mop\u001b[49m\u001b[43m(\u001b[49m\u001b[43mxrav\u001b[49m\u001b[43m[\u001b[49m\u001b[43mmask\u001b[49m\u001b[43m]\u001b[49m\u001b[43m,\u001b[49m\u001b[43m \u001b[49m\u001b[43my\u001b[49m\u001b[43m)\u001b[49m\n\u001b[0;32m    129\u001b[0m np\u001b[38;5;241m.\u001b[39mputmask(result, \u001b[38;5;241m~\u001b[39mmask, np\u001b[38;5;241m.\u001b[39mnan)\n\u001b[0;32m    130\u001b[0m result \u001b[38;5;241m=\u001b[39m result\u001b[38;5;241m.\u001b[39mreshape(x\u001b[38;5;241m.\u001b[39mshape)  \u001b[38;5;66;03m# 2D compat\u001b[39;00m\n",
      "\u001b[1;31mTypeError\u001b[0m: can only concatenate str (not \"int\") to str"
     ]
    }
   ],
   "source": [
    "seri9+50                          # values lardan biri string olunca toplama işlemi hata verir      "
   ]
  },
  {
   "cell_type": "code",
   "execution_count": null,
   "id": "ff7e3d65",
   "metadata": {},
   "outputs": [],
   "source": []
  },
  {
   "cell_type": "markdown",
   "id": "dff44fdd",
   "metadata": {},
   "source": [
    "# astype()       "
   ]
  },
  {
   "cell_type": "code",
   "execution_count": null,
   "id": "6e979e42",
   "metadata": {},
   "outputs": [],
   "source": [
    "# pd.Series tipini değiştirme  "
   ]
  },
  {
   "cell_type": "code",
   "execution_count": 161,
   "id": "48414f48",
   "metadata": {},
   "outputs": [],
   "source": [
    "seri10=pd.Series([11,12,13,14,15])"
   ]
  },
  {
   "cell_type": "code",
   "execution_count": 162,
   "id": "2f35d3dc",
   "metadata": {},
   "outputs": [
    {
     "data": {
      "text/plain": [
       "0    11\n",
       "1    12\n",
       "2    13\n",
       "3    14\n",
       "4    15\n",
       "dtype: int64"
      ]
     },
     "execution_count": 162,
     "metadata": {},
     "output_type": "execute_result"
    }
   ],
   "source": [
    "seri10"
   ]
  },
  {
   "cell_type": "code",
   "execution_count": 163,
   "id": "8418eed3",
   "metadata": {},
   "outputs": [
    {
     "data": {
      "text/plain": [
       "dtype('int64')"
      ]
     },
     "execution_count": 163,
     "metadata": {},
     "output_type": "execute_result"
    }
   ],
   "source": [
    "seri10.dtype"
   ]
  },
  {
   "cell_type": "code",
   "execution_count": 164,
   "id": "1ceff3a2",
   "metadata": {},
   "outputs": [
    {
     "data": {
      "text/plain": [
       "0    11\n",
       "1    12\n",
       "2    13\n",
       "3    14\n",
       "4    15\n",
       "dtype: int32"
      ]
     },
     "execution_count": 164,
     "metadata": {},
     "output_type": "execute_result"
    }
   ],
   "source": [
    "seri10.astype(\"int32\")"
   ]
  },
  {
   "cell_type": "code",
   "execution_count": null,
   "id": "85cf6121",
   "metadata": {},
   "outputs": [],
   "source": []
  },
  {
   "cell_type": "markdown",
   "id": "1c4e4483",
   "metadata": {},
   "source": [
    "# pop()                        "
   ]
  },
  {
   "cell_type": "code",
   "execution_count": null,
   "id": "06d4c3dc",
   "metadata": {},
   "outputs": [],
   "source": [
    "# pd.Series ta eleman siler ve sildiği elemanı döndürür. pd.Series üzerinde kalıcı işlem yapar"
   ]
  },
  {
   "cell_type": "code",
   "execution_count": 165,
   "id": "47f0f9fd",
   "metadata": {},
   "outputs": [
    {
     "data": {
      "text/plain": [
       "0    11\n",
       "1    12\n",
       "2    13\n",
       "3    14\n",
       "4    15\n",
       "dtype: int64"
      ]
     },
     "execution_count": 165,
     "metadata": {},
     "output_type": "execute_result"
    }
   ],
   "source": [
    "seri10"
   ]
  },
  {
   "cell_type": "code",
   "execution_count": 166,
   "id": "76c10568",
   "metadata": {},
   "outputs": [
    {
     "data": {
      "text/plain": [
       "13"
      ]
     },
     "execution_count": 166,
     "metadata": {},
     "output_type": "execute_result"
    }
   ],
   "source": [
    "seri10.pop(2)                # 2 index değeri siler. birden fazla değer için hata veriyor"
   ]
  },
  {
   "cell_type": "code",
   "execution_count": 167,
   "id": "77432982",
   "metadata": {},
   "outputs": [
    {
     "data": {
      "text/plain": [
       "0    11\n",
       "1    12\n",
       "3    14\n",
       "4    15\n",
       "dtype: int64"
      ]
     },
     "execution_count": 167,
     "metadata": {},
     "output_type": "execute_result"
    }
   ],
   "source": [
    "seri10"
   ]
  },
  {
   "cell_type": "code",
   "execution_count": null,
   "id": "81e64afe",
   "metadata": {},
   "outputs": [],
   "source": []
  },
  {
   "cell_type": "markdown",
   "id": "2e2ca4f6",
   "metadata": {},
   "source": [
    "# drop()                        "
   ]
  },
  {
   "cell_type": "code",
   "execution_count": null,
   "id": "a3cdd7d1",
   "metadata": {},
   "outputs": [],
   "source": [
    "# pd.Series tan istenilen elemanları siler ve sonuc olarak kalanları verir."
   ]
  },
  {
   "cell_type": "code",
   "execution_count": 168,
   "id": "5d7930f2",
   "metadata": {},
   "outputs": [
    {
     "data": {
      "text/plain": [
       "0    11\n",
       "1    12\n",
       "3    14\n",
       "4    15\n",
       "dtype: int64"
      ]
     },
     "execution_count": 168,
     "metadata": {},
     "output_type": "execute_result"
    }
   ],
   "source": [
    "seri10"
   ]
  },
  {
   "cell_type": "code",
   "execution_count": 169,
   "id": "8b4f838a",
   "metadata": {},
   "outputs": [
    {
     "data": {
      "text/plain": [
       "0    11\n",
       "4    15\n",
       "dtype: int64"
      ]
     },
     "execution_count": 169,
     "metadata": {},
     "output_type": "execute_result"
    }
   ],
   "source": [
    "seri10.drop(labels=[1,3])   # labels= olarak yazılır silinecek indexler.  labels yazmadan [] içinde yazılabilir\n",
    "                            # indexleri label index leri ilede yazabiliriz. 1 ve 3 index değeri sildi kalanları döndürdü\n",
    "                            # seri üzerinde kalıcı işlem yapmaz. kalıcı olması için inplace=True yapılmalı"
   ]
  },
  {
   "cell_type": "code",
   "execution_count": 170,
   "id": "5277ff9d",
   "metadata": {},
   "outputs": [
    {
     "data": {
      "text/plain": [
       "0    11\n",
       "1    12\n",
       "3    14\n",
       "4    15\n",
       "dtype: int64"
      ]
     },
     "execution_count": 170,
     "metadata": {},
     "output_type": "execute_result"
    }
   ],
   "source": [
    "seri10"
   ]
  },
  {
   "cell_type": "markdown",
   "id": "7aef6ad9",
   "metadata": {},
   "source": [
    "# drop_duplicates()                   "
   ]
  },
  {
   "cell_type": "code",
   "execution_count": null,
   "id": "fba6ab43",
   "metadata": {},
   "outputs": [],
   "source": [
    "# pd.Series içerisinde birden fazla yazılmış olanları siler kalanı döndürür. pd.Series ta değişiklik yapmaz\n",
    "# kalıcı işlem için inplace=True"
   ]
  },
  {
   "cell_type": "code",
   "execution_count": 171,
   "id": "827c8fa9",
   "metadata": {},
   "outputs": [],
   "source": [
    "animals_series= pd.Series(['lama', 'cow', 'lama', 'beetle', 'lama', 'hippo'], name='animal')"
   ]
  },
  {
   "cell_type": "code",
   "execution_count": 172,
   "id": "c14bd43c",
   "metadata": {},
   "outputs": [
    {
     "data": {
      "text/plain": [
       "0      lama\n",
       "1       cow\n",
       "2      lama\n",
       "3    beetle\n",
       "4      lama\n",
       "5     hippo\n",
       "Name: animal, dtype: object"
      ]
     },
     "execution_count": 172,
     "metadata": {},
     "output_type": "execute_result"
    }
   ],
   "source": [
    "animals_series"
   ]
  },
  {
   "cell_type": "code",
   "execution_count": 173,
   "id": "8f071d63",
   "metadata": {},
   "outputs": [
    {
     "data": {
      "text/plain": [
       "0      lama\n",
       "1       cow\n",
       "3    beetle\n",
       "5     hippo\n",
       "Name: animal, dtype: object"
      ]
     },
     "execution_count": 173,
     "metadata": {},
     "output_type": "execute_result"
    }
   ],
   "source": [
    "animals_series.drop_duplicates()"
   ]
  },
  {
   "cell_type": "code",
   "execution_count": 174,
   "id": "214c2bb7",
   "metadata": {},
   "outputs": [
    {
     "data": {
      "text/plain": [
       "0      lama\n",
       "1       cow\n",
       "2      lama\n",
       "3    beetle\n",
       "4      lama\n",
       "5     hippo\n",
       "Name: animal, dtype: object"
      ]
     },
     "execution_count": 174,
     "metadata": {},
     "output_type": "execute_result"
    }
   ],
   "source": [
    "animals_series"
   ]
  },
  {
   "cell_type": "code",
   "execution_count": null,
   "id": "137683e0",
   "metadata": {},
   "outputs": [],
   "source": []
  },
  {
   "cell_type": "markdown",
   "id": "eebb32e6",
   "metadata": {},
   "source": [
    "# where                             "
   ]
  },
  {
   "cell_type": "code",
   "execution_count": null,
   "id": "2333027c",
   "metadata": {},
   "outputs": [],
   "source": [
    "# koşulu sağlayanları true olanların değerini, sağlamayanları nan döndürür"
   ]
  },
  {
   "cell_type": "code",
   "execution_count": 175,
   "id": "33035b30",
   "metadata": {},
   "outputs": [],
   "source": [
    "seri101=pd.Series(range(10))"
   ]
  },
  {
   "cell_type": "code",
   "execution_count": 176,
   "id": "832c9c1d",
   "metadata": {},
   "outputs": [
    {
     "data": {
      "text/plain": [
       "0    0\n",
       "1    1\n",
       "2    2\n",
       "3    3\n",
       "4    4\n",
       "5    5\n",
       "6    6\n",
       "7    7\n",
       "8    8\n",
       "9    9\n",
       "dtype: int64"
      ]
     },
     "execution_count": 176,
     "metadata": {},
     "output_type": "execute_result"
    }
   ],
   "source": [
    "seri101"
   ]
  },
  {
   "cell_type": "code",
   "execution_count": 177,
   "id": "3351e5cf",
   "metadata": {},
   "outputs": [
    {
     "data": {
      "text/plain": [
       "0    NaN\n",
       "1    NaN\n",
       "2    NaN\n",
       "3    NaN\n",
       "4    NaN\n",
       "5    NaN\n",
       "6    6.0\n",
       "7    7.0\n",
       "8    8.0\n",
       "9    9.0\n",
       "dtype: float64"
      ]
     },
     "execution_count": 177,
     "metadata": {},
     "output_type": "execute_result"
    }
   ],
   "source": [
    "seri101.where(seri101>5)"
   ]
  },
  {
   "cell_type": "code",
   "execution_count": null,
   "id": "ee010b75",
   "metadata": {},
   "outputs": [],
   "source": []
  },
  {
   "cell_type": "markdown",
   "id": "c5cb1a59",
   "metadata": {},
   "source": [
    "# mask                    "
   ]
  },
  {
   "cell_type": "code",
   "execution_count": 178,
   "id": "f8d10719",
   "metadata": {},
   "outputs": [
    {
     "data": {
      "text/plain": [
       "0    0\n",
       "1    1\n",
       "2    2\n",
       "3    3\n",
       "4    4\n",
       "5    5\n",
       "6    6\n",
       "7    7\n",
       "8    8\n",
       "9    9\n",
       "dtype: int64"
      ]
     },
     "execution_count": 178,
     "metadata": {},
     "output_type": "execute_result"
    }
   ],
   "source": [
    "seri101"
   ]
  },
  {
   "cell_type": "code",
   "execution_count": 179,
   "id": "fb667afa",
   "metadata": {},
   "outputs": [
    {
     "data": {
      "text/plain": [
       "0    0.0\n",
       "1    1.0\n",
       "2    2.0\n",
       "3    3.0\n",
       "4    4.0\n",
       "5    5.0\n",
       "6    NaN\n",
       "7    NaN\n",
       "8    NaN\n",
       "9    NaN\n",
       "dtype: float64"
      ]
     },
     "execution_count": 179,
     "metadata": {},
     "output_type": "execute_result"
    }
   ],
   "source": [
    "seri101.mask(seri101>5)           # koşulu sağlayanları maskeledi"
   ]
  },
  {
   "cell_type": "code",
   "execution_count": 180,
   "id": "7dd385ef",
   "metadata": {},
   "outputs": [
    {
     "data": {
      "text/plain": [
       "0     0\n",
       "1     1\n",
       "2     2\n",
       "3     3\n",
       "4     4\n",
       "5     5\n",
       "6    10\n",
       "7    10\n",
       "8    10\n",
       "9    10\n",
       "dtype: int64"
      ]
     },
     "execution_count": 180,
     "metadata": {},
     "output_type": "execute_result"
    }
   ],
   "source": [
    "seri101.mask(seri101>5,10)       # koşulu sağlayanları 10 yaparak maskeledi"
   ]
  },
  {
   "cell_type": "code",
   "execution_count": null,
   "id": "ee87d05b",
   "metadata": {},
   "outputs": [],
   "source": []
  },
  {
   "cell_type": "markdown",
   "id": "dbd7b14b",
   "metadata": {},
   "source": [
    "# dropna                          "
   ]
  },
  {
   "cell_type": "code",
   "execution_count": null,
   "id": "124d2a66",
   "metadata": {},
   "outputs": [],
   "source": [
    "# nan olanları düşürür ve kalanları döndürür, kalıcı değişiklik olmaz "
   ]
  },
  {
   "cell_type": "code",
   "execution_count": 181,
   "id": "25941f12",
   "metadata": {},
   "outputs": [],
   "source": [
    "seri102=pd.Series([3,5,np.nan,9,np.nan])"
   ]
  },
  {
   "cell_type": "code",
   "execution_count": 182,
   "id": "1f9e191c",
   "metadata": {},
   "outputs": [
    {
     "data": {
      "text/plain": [
       "0    3.0\n",
       "1    5.0\n",
       "2    NaN\n",
       "3    9.0\n",
       "4    NaN\n",
       "dtype: float64"
      ]
     },
     "execution_count": 182,
     "metadata": {},
     "output_type": "execute_result"
    }
   ],
   "source": [
    "seri102"
   ]
  },
  {
   "cell_type": "code",
   "execution_count": 183,
   "id": "dc25a0aa",
   "metadata": {},
   "outputs": [
    {
     "data": {
      "text/plain": [
       "0    3.0\n",
       "1    5.0\n",
       "3    9.0\n",
       "dtype: float64"
      ]
     },
     "execution_count": 183,
     "metadata": {},
     "output_type": "execute_result"
    }
   ],
   "source": [
    "seri102.dropna()"
   ]
  },
  {
   "cell_type": "code",
   "execution_count": 184,
   "id": "67f06def",
   "metadata": {},
   "outputs": [
    {
     "data": {
      "text/plain": [
       "0    3.0\n",
       "1    5.0\n",
       "2    NaN\n",
       "3    9.0\n",
       "4    NaN\n",
       "dtype: float64"
      ]
     },
     "execution_count": 184,
     "metadata": {},
     "output_type": "execute_result"
    }
   ],
   "source": [
    "seri102                              # kalıcı değişiklik olmadı. kalıcı değişiklik için inplace=True kullanılır"
   ]
  },
  {
   "cell_type": "code",
   "execution_count": null,
   "id": "ef4ebd26",
   "metadata": {},
   "outputs": [],
   "source": []
  },
  {
   "cell_type": "code",
   "execution_count": 185,
   "id": "8af2abc2",
   "metadata": {},
   "outputs": [],
   "source": [
    "seri103=pd.Series([3,5,np.nan,9,np.nan])"
   ]
  },
  {
   "cell_type": "code",
   "execution_count": 186,
   "id": "4ba7c5f6",
   "metadata": {},
   "outputs": [
    {
     "data": {
      "text/plain": [
       "0    3.0\n",
       "1    5.0\n",
       "2    NaN\n",
       "3    9.0\n",
       "4    NaN\n",
       "dtype: float64"
      ]
     },
     "execution_count": 186,
     "metadata": {},
     "output_type": "execute_result"
    }
   ],
   "source": [
    "seri103"
   ]
  },
  {
   "cell_type": "code",
   "execution_count": 187,
   "id": "a4f83478",
   "metadata": {},
   "outputs": [],
   "source": [
    "seri103.dropna(inplace=True)"
   ]
  },
  {
   "cell_type": "code",
   "execution_count": 188,
   "id": "daf2ca86",
   "metadata": {},
   "outputs": [
    {
     "data": {
      "text/plain": [
       "0    3.0\n",
       "1    5.0\n",
       "3    9.0\n",
       "dtype: float64"
      ]
     },
     "execution_count": 188,
     "metadata": {},
     "output_type": "execute_result"
    }
   ],
   "source": [
    "seri103                           # kalıcı değişikli oldu"
   ]
  },
  {
   "cell_type": "code",
   "execution_count": null,
   "id": "07962a1b",
   "metadata": {},
   "outputs": [],
   "source": []
  },
  {
   "cell_type": "markdown",
   "id": "5140ecd9",
   "metadata": {},
   "source": [
    "# fillna                          "
   ]
  },
  {
   "cell_type": "code",
   "execution_count": null,
   "id": "6a4ddd69",
   "metadata": {},
   "outputs": [],
   "source": [
    "# pd.Series ta nan olanları istenilen ifadeyle değiştirir. değişiklik kalıcı değildir, kalıcı olması için inplace=True kullnılır"
   ]
  },
  {
   "cell_type": "code",
   "execution_count": 189,
   "id": "1eb070eb",
   "metadata": {},
   "outputs": [
    {
     "data": {
      "text/plain": [
       "0    3.0\n",
       "1    5.0\n",
       "2    NaN\n",
       "3    9.0\n",
       "4    NaN\n",
       "dtype: float64"
      ]
     },
     "execution_count": 189,
     "metadata": {},
     "output_type": "execute_result"
    }
   ],
   "source": [
    "seri102"
   ]
  },
  {
   "cell_type": "code",
   "execution_count": 190,
   "id": "03e05723",
   "metadata": {},
   "outputs": [
    {
     "data": {
      "text/plain": [
       "0      3.0\n",
       "1      5.0\n",
       "2    100.0\n",
       "3      9.0\n",
       "4    100.0\n",
       "dtype: float64"
      ]
     },
     "execution_count": 190,
     "metadata": {},
     "output_type": "execute_result"
    }
   ],
   "source": [
    "seri102.fillna(100)"
   ]
  },
  {
   "cell_type": "code",
   "execution_count": 191,
   "id": "5320409b",
   "metadata": {},
   "outputs": [
    {
     "data": {
      "text/plain": [
       "0    3.0\n",
       "1    5.0\n",
       "2    NaN\n",
       "3    9.0\n",
       "4    NaN\n",
       "dtype: float64"
      ]
     },
     "execution_count": 191,
     "metadata": {},
     "output_type": "execute_result"
    }
   ],
   "source": [
    "seri102"
   ]
  },
  {
   "cell_type": "code",
   "execution_count": 192,
   "id": "a321d7dc",
   "metadata": {},
   "outputs": [],
   "source": [
    "seri102.fillna(50,inplace=True)        # kalıcı değişiklik oldu"
   ]
  },
  {
   "cell_type": "code",
   "execution_count": 193,
   "id": "bb4622ff",
   "metadata": {},
   "outputs": [
    {
     "data": {
      "text/plain": [
       "0     3.0\n",
       "1     5.0\n",
       "2    50.0\n",
       "3     9.0\n",
       "4    50.0\n",
       "dtype: float64"
      ]
     },
     "execution_count": 193,
     "metadata": {},
     "output_type": "execute_result"
    }
   ],
   "source": [
    "seri102"
   ]
  },
  {
   "cell_type": "code",
   "execution_count": null,
   "id": "3f482e1e",
   "metadata": {},
   "outputs": [],
   "source": []
  },
  {
   "cell_type": "markdown",
   "id": "c03d64eb",
   "metadata": {},
   "source": [
    "# value_counts                        "
   ]
  },
  {
   "cell_type": "code",
   "execution_count": null,
   "id": "8f3a1612",
   "metadata": {},
   "outputs": [],
   "source": [
    "# pd.Series ta herbir values kacar adet bunu döndürür. nan ları saymaz, dropna=False ile nan larda döndürülür"
   ]
  },
  {
   "cell_type": "code",
   "execution_count": 194,
   "id": "c62fe12f",
   "metadata": {},
   "outputs": [],
   "source": [
    "seri104=pd.Series([1,3,4,2,1,4,5,np.nan,1,np.nan])"
   ]
  },
  {
   "cell_type": "code",
   "execution_count": 195,
   "id": "78a541dd",
   "metadata": {},
   "outputs": [
    {
     "data": {
      "text/plain": [
       "0    1.0\n",
       "1    3.0\n",
       "2    4.0\n",
       "3    2.0\n",
       "4    1.0\n",
       "5    4.0\n",
       "6    5.0\n",
       "7    NaN\n",
       "8    1.0\n",
       "9    NaN\n",
       "dtype: float64"
      ]
     },
     "execution_count": 195,
     "metadata": {},
     "output_type": "execute_result"
    }
   ],
   "source": [
    "seri104"
   ]
  },
  {
   "cell_type": "code",
   "execution_count": 196,
   "id": "4a0f5105",
   "metadata": {},
   "outputs": [
    {
     "data": {
      "text/plain": [
       "1.0    3\n",
       "4.0    2\n",
       "3.0    1\n",
       "2.0    1\n",
       "5.0    1\n",
       "dtype: int64"
      ]
     },
     "execution_count": 196,
     "metadata": {},
     "output_type": "execute_result"
    }
   ],
   "source": [
    "seri104.value_counts()"
   ]
  },
  {
   "cell_type": "code",
   "execution_count": 197,
   "id": "5759a5a7",
   "metadata": {},
   "outputs": [
    {
     "data": {
      "text/plain": [
       "1.0    3\n",
       "4.0    2\n",
       "NaN    2\n",
       "3.0    1\n",
       "2.0    1\n",
       "5.0    1\n",
       "dtype: int64"
      ]
     },
     "execution_count": 197,
     "metadata": {},
     "output_type": "execute_result"
    }
   ],
   "source": [
    "seri104.value_counts(dropna=False)"
   ]
  },
  {
   "cell_type": "code",
   "execution_count": null,
   "id": "1e2f54c7",
   "metadata": {},
   "outputs": [],
   "source": []
  },
  {
   "cell_type": "markdown",
   "id": "46b4d09c",
   "metadata": {},
   "source": [
    "# isnull                          "
   ]
  },
  {
   "cell_type": "code",
   "execution_count": null,
   "id": "575b9d02",
   "metadata": {},
   "outputs": [],
   "source": [
    "# pd.Series te nan ların durumunu True/False döndürür"
   ]
  },
  {
   "cell_type": "code",
   "execution_count": 198,
   "id": "c4fbdb5b",
   "metadata": {},
   "outputs": [
    {
     "data": {
      "text/plain": [
       "0    1.0\n",
       "1    3.0\n",
       "2    4.0\n",
       "3    2.0\n",
       "4    1.0\n",
       "5    4.0\n",
       "6    5.0\n",
       "7    NaN\n",
       "8    1.0\n",
       "9    NaN\n",
       "dtype: float64"
      ]
     },
     "execution_count": 198,
     "metadata": {},
     "output_type": "execute_result"
    }
   ],
   "source": [
    "seri104"
   ]
  },
  {
   "cell_type": "code",
   "execution_count": 199,
   "id": "1cb692f3",
   "metadata": {},
   "outputs": [
    {
     "data": {
      "text/plain": [
       "0    False\n",
       "1    False\n",
       "2    False\n",
       "3    False\n",
       "4    False\n",
       "5    False\n",
       "6    False\n",
       "7     True\n",
       "8    False\n",
       "9     True\n",
       "dtype: bool"
      ]
     },
     "execution_count": 199,
     "metadata": {},
     "output_type": "execute_result"
    }
   ],
   "source": [
    "seri104.isnull()        "
   ]
  },
  {
   "cell_type": "code",
   "execution_count": 200,
   "id": "ae67648c",
   "metadata": {},
   "outputs": [
    {
     "data": {
      "text/plain": [
       "2"
      ]
     },
     "execution_count": 200,
     "metadata": {},
     "output_type": "execute_result"
    }
   ],
   "source": [
    "seri104.isnull().sum()               # nan ların kac adet oldugunu döndürdü"
   ]
  },
  {
   "cell_type": "code",
   "execution_count": null,
   "id": "ff027c09",
   "metadata": {},
   "outputs": [],
   "source": []
  },
  {
   "cell_type": "markdown",
   "id": "c0f5d0e3",
   "metadata": {},
   "source": [
    "# append                             "
   ]
  },
  {
   "cell_type": "code",
   "execution_count": null,
   "id": "e17f5639",
   "metadata": {},
   "outputs": [],
   "source": [
    "# 2 pd.Series eklenir. index ve value değerler korunur. ignore_index=True ile indexlerde değişir. kalıcı değişim olmaz"
   ]
  },
  {
   "cell_type": "code",
   "execution_count": 201,
   "id": "f0cf2ae9",
   "metadata": {},
   "outputs": [],
   "source": [
    "seri105=pd.Series([1,2,3,4,5])\n",
    "seri106=pd.Series([11,12,13,14,15],index=[\"a\",\"b\",\"c\",\"d\",\"e\"])"
   ]
  },
  {
   "cell_type": "code",
   "execution_count": 202,
   "id": "dee25fbf",
   "metadata": {},
   "outputs": [
    {
     "name": "stderr",
     "output_type": "stream",
     "text": [
      "C:\\Users\\honor\\AppData\\Local\\Temp\\ipykernel_9568\\1415598574.py:1: FutureWarning: The series.append method is deprecated and will be removed from pandas in a future version. Use pandas.concat instead.\n",
      "  seri105.append(seri106)\n"
     ]
    },
    {
     "data": {
      "text/plain": [
       "0     1\n",
       "1     2\n",
       "2     3\n",
       "3     4\n",
       "4     5\n",
       "a    11\n",
       "b    12\n",
       "c    13\n",
       "d    14\n",
       "e    15\n",
       "dtype: int64"
      ]
     },
     "execution_count": 202,
     "metadata": {},
     "output_type": "execute_result"
    }
   ],
   "source": [
    "seri105.append(seri106)"
   ]
  },
  {
   "cell_type": "code",
   "execution_count": null,
   "id": "e8fb9346",
   "metadata": {},
   "outputs": [],
   "source": []
  },
  {
   "cell_type": "code",
   "execution_count": 203,
   "id": "e820819d",
   "metadata": {},
   "outputs": [
    {
     "name": "stderr",
     "output_type": "stream",
     "text": [
      "C:\\Users\\honor\\AppData\\Local\\Temp\\ipykernel_9568\\2682022863.py:1: FutureWarning: The series.append method is deprecated and will be removed from pandas in a future version. Use pandas.concat instead.\n",
      "  seri105.append(seri106, ignore_index=True)               # ignore_index=True ile indexler yeniden belirlenir\n"
     ]
    },
    {
     "data": {
      "text/plain": [
       "0     1\n",
       "1     2\n",
       "2     3\n",
       "3     4\n",
       "4     5\n",
       "5    11\n",
       "6    12\n",
       "7    13\n",
       "8    14\n",
       "9    15\n",
       "dtype: int64"
      ]
     },
     "execution_count": 203,
     "metadata": {},
     "output_type": "execute_result"
    }
   ],
   "source": [
    "seri105.append(seri106, ignore_index=True)               # ignore_index=True ile indexler yeniden belirlenir"
   ]
  },
  {
   "cell_type": "code",
   "execution_count": 204,
   "id": "b81175be",
   "metadata": {},
   "outputs": [
    {
     "data": {
      "text/plain": [
       "0    1\n",
       "1    2\n",
       "2    3\n",
       "3    4\n",
       "4    5\n",
       "dtype: int64"
      ]
     },
     "execution_count": 204,
     "metadata": {},
     "output_type": "execute_result"
    }
   ],
   "source": [
    "seri105"
   ]
  },
  {
   "cell_type": "code",
   "execution_count": null,
   "id": "539337c9",
   "metadata": {},
   "outputs": [],
   "source": []
  },
  {
   "cell_type": "markdown",
   "id": "df882fe5",
   "metadata": {},
   "source": [
    "# add()"
   ]
  },
  {
   "cell_type": "code",
   "execution_count": null,
   "id": "68f8d27c",
   "metadata": {},
   "outputs": [],
   "source": [
    "# add ile 2 pd.Series toplama"
   ]
  },
  {
   "cell_type": "code",
   "execution_count": 205,
   "id": "d9118c48",
   "metadata": {},
   "outputs": [],
   "source": [
    "a = pd.Series([1, 1, 1, np.nan], index=['a', 'b', 'c', 'd'])\n",
    "b = pd.Series([1, np.nan, 1, np.nan], index=['a', 'b', 'd', 'e'])"
   ]
  },
  {
   "cell_type": "code",
   "execution_count": 206,
   "id": "839375e3",
   "metadata": {},
   "outputs": [
    {
     "data": {
      "text/plain": [
       "a    1.0\n",
       "b    1.0\n",
       "c    1.0\n",
       "d    NaN\n",
       "dtype: float64"
      ]
     },
     "execution_count": 206,
     "metadata": {},
     "output_type": "execute_result"
    }
   ],
   "source": [
    "a"
   ]
  },
  {
   "cell_type": "code",
   "execution_count": 207,
   "id": "72d5f223",
   "metadata": {},
   "outputs": [
    {
     "data": {
      "text/plain": [
       "a    1.0\n",
       "b    NaN\n",
       "d    1.0\n",
       "e    NaN\n",
       "dtype: float64"
      ]
     },
     "execution_count": 207,
     "metadata": {},
     "output_type": "execute_result"
    }
   ],
   "source": [
    "b"
   ]
  },
  {
   "cell_type": "code",
   "execution_count": 208,
   "id": "4bf29371",
   "metadata": {},
   "outputs": [
    {
     "data": {
      "text/plain": [
       "a    2.0\n",
       "b    NaN\n",
       "c    NaN\n",
       "d    NaN\n",
       "e    NaN\n",
       "dtype: float64"
      ]
     },
     "execution_count": 208,
     "metadata": {},
     "output_type": "execute_result"
    }
   ],
   "source": [
    "a.add(b)                # aynı index lerin value lerinden biri nan ise sonucu nan döndürür. \n",
    "                        # aynı şekilde bir pd.Series ta yer alan index diğerinde yoksa onuda nan döndürür"
   ]
  },
  {
   "cell_type": "code",
   "execution_count": 209,
   "id": "f624b159",
   "metadata": {},
   "outputs": [
    {
     "data": {
      "text/plain": [
       "a    2.0\n",
       "b    1.0\n",
       "c    1.0\n",
       "d    1.0\n",
       "e    NaN\n",
       "dtype: float64"
      ]
     },
     "execution_count": 209,
     "metadata": {},
     "output_type": "execute_result"
    }
   ],
   "source": [
    "a.add(b,fill_value=0)   # nan değerleri 0 yapar. 0 yerine başka değer girilirse onu yapar\n",
    "                        # aynı index teki value lerin ikiside nan ise onları değiştirmez"
   ]
  },
  {
   "cell_type": "code",
   "execution_count": 210,
   "id": "148e8162",
   "metadata": {},
   "outputs": [
    {
     "data": {
      "text/plain": [
       "a     2.0\n",
       "b    51.0\n",
       "c    51.0\n",
       "d    51.0\n",
       "e     NaN\n",
       "dtype: float64"
      ]
     },
     "execution_count": 210,
     "metadata": {},
     "output_type": "execute_result"
    }
   ],
   "source": [
    "a.add(b,fill_value=50)"
   ]
  },
  {
   "cell_type": "code",
   "execution_count": null,
   "id": "3849be26",
   "metadata": {},
   "outputs": [],
   "source": []
  },
  {
   "cell_type": "markdown",
   "id": "e8a38b78",
   "metadata": {},
   "source": [
    "# apply                 "
   ]
  },
  {
   "cell_type": "code",
   "execution_count": null,
   "id": "9f7121d6",
   "metadata": {},
   "outputs": [],
   "source": [
    "# pd.Series üzerinde fonksiyon çalıştırma"
   ]
  },
  {
   "cell_type": "code",
   "execution_count": 211,
   "id": "4a685da3",
   "metadata": {},
   "outputs": [],
   "source": [
    "seri111=pd.Series([3,5,8,11])"
   ]
  },
  {
   "cell_type": "code",
   "execution_count": 212,
   "id": "1a2fc36e",
   "metadata": {},
   "outputs": [
    {
     "data": {
      "text/plain": [
       "0     3\n",
       "1     5\n",
       "2     8\n",
       "3    11\n",
       "dtype: int64"
      ]
     },
     "execution_count": 212,
     "metadata": {},
     "output_type": "execute_result"
    }
   ],
   "source": [
    "seri111"
   ]
  },
  {
   "cell_type": "code",
   "execution_count": 214,
   "id": "ebfa94f9",
   "metadata": {},
   "outputs": [],
   "source": [
    "def bincarp(x):\n",
    "    return x*1000"
   ]
  },
  {
   "cell_type": "code",
   "execution_count": 215,
   "id": "a2fcd81c",
   "metadata": {},
   "outputs": [
    {
     "data": {
      "text/plain": [
       "0     3000\n",
       "1     5000\n",
       "2     8000\n",
       "3    11000\n",
       "dtype: int64"
      ]
     },
     "execution_count": 215,
     "metadata": {},
     "output_type": "execute_result"
    }
   ],
   "source": [
    "seri111.apply(bincarp)"
   ]
  },
  {
   "cell_type": "code",
   "execution_count": null,
   "id": "d5f8998f",
   "metadata": {},
   "outputs": [],
   "source": []
  },
  {
   "cell_type": "code",
   "execution_count": 216,
   "id": "69ecdfe1",
   "metadata": {},
   "outputs": [],
   "source": [
    "seri112=pd.Series([\"elma\",\"armut\",\"kiraz\",\"seftali\"])"
   ]
  },
  {
   "cell_type": "code",
   "execution_count": 217,
   "id": "560052c7",
   "metadata": {},
   "outputs": [
    {
     "data": {
      "text/plain": [
       "0       elma\n",
       "1      armut\n",
       "2      kiraz\n",
       "3    seftali\n",
       "dtype: object"
      ]
     },
     "execution_count": 217,
     "metadata": {},
     "output_type": "execute_result"
    }
   ],
   "source": [
    "seri112"
   ]
  },
  {
   "cell_type": "code",
   "execution_count": 218,
   "id": "85d8f97b",
   "metadata": {},
   "outputs": [],
   "source": [
    "def buyukharf(x):\n",
    "    return x.upper()"
   ]
  },
  {
   "cell_type": "code",
   "execution_count": 219,
   "id": "aebc50c8",
   "metadata": {},
   "outputs": [
    {
     "data": {
      "text/plain": [
       "0       ELMA\n",
       "1      ARMUT\n",
       "2      KIRAZ\n",
       "3    SEFTALI\n",
       "dtype: object"
      ]
     },
     "execution_count": 219,
     "metadata": {},
     "output_type": "execute_result"
    }
   ],
   "source": [
    "seri112.apply(buyukharf)"
   ]
  },
  {
   "cell_type": "code",
   "execution_count": null,
   "id": "9608b437",
   "metadata": {},
   "outputs": [],
   "source": []
  },
  {
   "cell_type": "markdown",
   "id": "1f4cbbcf",
   "metadata": {},
   "source": [
    "# agg                        "
   ]
  },
  {
   "cell_type": "code",
   "execution_count": null,
   "id": "c84d2807",
   "metadata": {},
   "outputs": [],
   "source": [
    "# pd.Series ta min,max,sum,mean,median gibi degerleri verir"
   ]
  },
  {
   "cell_type": "code",
   "execution_count": 220,
   "id": "0a06aa48",
   "metadata": {},
   "outputs": [
    {
     "data": {
      "text/plain": [
       "0     3\n",
       "1     5\n",
       "2     8\n",
       "3    11\n",
       "dtype: int64"
      ]
     },
     "execution_count": 220,
     "metadata": {},
     "output_type": "execute_result"
    }
   ],
   "source": [
    "seri111"
   ]
  },
  {
   "cell_type": "code",
   "execution_count": 221,
   "id": "b4fca8b9",
   "metadata": {},
   "outputs": [
    {
     "data": {
      "text/plain": [
       "min    3\n",
       "dtype: int64"
      ]
     },
     "execution_count": 221,
     "metadata": {},
     "output_type": "execute_result"
    }
   ],
   "source": [
    "seri111.agg([\"min\"])"
   ]
  },
  {
   "cell_type": "code",
   "execution_count": 222,
   "id": "7dbdf516",
   "metadata": {},
   "outputs": [
    {
     "data": {
      "text/plain": [
       "min        3.00\n",
       "max       11.00\n",
       "sum       27.00\n",
       "mean       6.75\n",
       "median     6.50\n",
       "dtype: float64"
      ]
     },
     "execution_count": 222,
     "metadata": {},
     "output_type": "execute_result"
    }
   ],
   "source": [
    "seri111.agg([\"min\",\"max\",\"sum\",\"mean\",\"median\"])"
   ]
  },
  {
   "cell_type": "code",
   "execution_count": null,
   "id": "99768500",
   "metadata": {},
   "outputs": [],
   "source": []
  },
  {
   "cell_type": "markdown",
   "id": "a69e6d61",
   "metadata": {},
   "source": [
    "# transform                     "
   ]
  },
  {
   "cell_type": "code",
   "execution_count": null,
   "id": "531be085",
   "metadata": {},
   "outputs": [],
   "source": [
    "# pd.Series istenilen değerlerden oluşan DataFrame e donusur"
   ]
  },
  {
   "cell_type": "code",
   "execution_count": 224,
   "id": "9bb7db2c",
   "metadata": {},
   "outputs": [
    {
     "data": {
      "text/plain": [
       "0     3\n",
       "1     5\n",
       "2     8\n",
       "3    11\n",
       "dtype: int64"
      ]
     },
     "execution_count": 224,
     "metadata": {},
     "output_type": "execute_result"
    }
   ],
   "source": [
    "seri111"
   ]
  },
  {
   "cell_type": "code",
   "execution_count": 223,
   "id": "e7ff4942",
   "metadata": {},
   "outputs": [
    {
     "data": {
      "text/html": [
       "<div>\n",
       "<style scoped>\n",
       "    .dataframe tbody tr th:only-of-type {\n",
       "        vertical-align: middle;\n",
       "    }\n",
       "\n",
       "    .dataframe tbody tr th {\n",
       "        vertical-align: top;\n",
       "    }\n",
       "\n",
       "    .dataframe thead th {\n",
       "        text-align: right;\n",
       "    }\n",
       "</style>\n",
       "<table border=\"1\" class=\"dataframe\">\n",
       "  <thead>\n",
       "    <tr style=\"text-align: right;\">\n",
       "      <th></th>\n",
       "      <th>sqrt</th>\n",
       "      <th>sin</th>\n",
       "      <th>cos</th>\n",
       "    </tr>\n",
       "  </thead>\n",
       "  <tbody>\n",
       "    <tr>\n",
       "      <th>0</th>\n",
       "      <td>1.732051</td>\n",
       "      <td>0.141120</td>\n",
       "      <td>-0.989992</td>\n",
       "    </tr>\n",
       "    <tr>\n",
       "      <th>1</th>\n",
       "      <td>2.236068</td>\n",
       "      <td>-0.958924</td>\n",
       "      <td>0.283662</td>\n",
       "    </tr>\n",
       "    <tr>\n",
       "      <th>2</th>\n",
       "      <td>2.828427</td>\n",
       "      <td>0.989358</td>\n",
       "      <td>-0.145500</td>\n",
       "    </tr>\n",
       "    <tr>\n",
       "      <th>3</th>\n",
       "      <td>3.316625</td>\n",
       "      <td>-0.999990</td>\n",
       "      <td>0.004426</td>\n",
       "    </tr>\n",
       "  </tbody>\n",
       "</table>\n",
       "</div>"
      ],
      "text/plain": [
       "       sqrt       sin       cos\n",
       "0  1.732051  0.141120 -0.989992\n",
       "1  2.236068 -0.958924  0.283662\n",
       "2  2.828427  0.989358 -0.145500\n",
       "3  3.316625 -0.999990  0.004426"
      ]
     },
     "execution_count": 223,
     "metadata": {},
     "output_type": "execute_result"
    }
   ],
   "source": [
    "seri111.transform([np.sqrt,np.sin,np.cos])"
   ]
  },
  {
   "cell_type": "code",
   "execution_count": null,
   "id": "303fb7db",
   "metadata": {},
   "outputs": [],
   "source": []
  },
  {
   "cell_type": "markdown",
   "id": "797738d7",
   "metadata": {},
   "source": [
    "# describe           "
   ]
  },
  {
   "cell_type": "code",
   "execution_count": null,
   "id": "47ea5c9d",
   "metadata": {},
   "outputs": [],
   "source": [
    "# pd.Series ile ilgili istatiksel bilgileri verir"
   ]
  },
  {
   "cell_type": "code",
   "execution_count": 225,
   "id": "a51b941a",
   "metadata": {},
   "outputs": [
    {
     "data": {
      "text/plain": [
       "count     4.00\n",
       "mean      6.75\n",
       "std       3.50\n",
       "min       3.00\n",
       "25%       4.50\n",
       "50%       6.50\n",
       "75%       8.75\n",
       "max      11.00\n",
       "dtype: float64"
      ]
     },
     "execution_count": 225,
     "metadata": {},
     "output_type": "execute_result"
    }
   ],
   "source": [
    "seri111.describe()"
   ]
  },
  {
   "cell_type": "code",
   "execution_count": null,
   "id": "9e4c18e1",
   "metadata": {},
   "outputs": [],
   "source": []
  },
  {
   "cell_type": "markdown",
   "id": "7f691181",
   "metadata": {},
   "source": [
    "# groupby()"
   ]
  },
  {
   "cell_type": "code",
   "execution_count": null,
   "id": "6f225578",
   "metadata": {},
   "outputs": [],
   "source": [
    "# gruplandırma"
   ]
  },
  {
   "cell_type": "code",
   "execution_count": 226,
   "id": "67c2d515",
   "metadata": {},
   "outputs": [],
   "source": [
    "seri222 = pd.Series([390., 350., 30., 20.],index=['Falcon', 'Falcon', 'Parrot', 'Parrot'], name=\"Max Speed\")"
   ]
  },
  {
   "cell_type": "code",
   "execution_count": 227,
   "id": "ec680519",
   "metadata": {},
   "outputs": [
    {
     "data": {
      "text/plain": [
       "Falcon    390.0\n",
       "Falcon    350.0\n",
       "Parrot     30.0\n",
       "Parrot     20.0\n",
       "Name: Max Speed, dtype: float64"
      ]
     },
     "execution_count": 227,
     "metadata": {},
     "output_type": "execute_result"
    }
   ],
   "source": [
    "seri222"
   ]
  },
  {
   "cell_type": "code",
   "execution_count": 228,
   "id": "de9dc692",
   "metadata": {},
   "outputs": [
    {
     "data": {
      "text/plain": [
       "Falcon    370.0\n",
       "Parrot     25.0\n",
       "Name: Max Speed, dtype: float64"
      ]
     },
     "execution_count": 228,
     "metadata": {},
     "output_type": "execute_result"
    }
   ],
   "source": [
    "seri222.groupby(level=0).mean()      # level=0 index değerlerin tutulduğu sütun. label index değerlere göre yani falcon \n",
    "                                     # ve parrot olarak gruplandırdı ve her grubun ortalamasını verdi"
   ]
  },
  {
   "cell_type": "code",
   "execution_count": 229,
   "id": "d6f9d84e",
   "metadata": {},
   "outputs": [
    {
     "data": {
      "text/plain": [
       "Max Speed\n",
       "False    133.333333\n",
       "True     390.000000\n",
       "Name: Max Speed, dtype: float64"
      ]
     },
     "execution_count": 229,
     "metadata": {},
     "output_type": "execute_result"
    }
   ],
   "source": [
    "seri222.groupby(seri222>360).mean()   # burada 360 dan buyuk olma durumuna gore gruplandırdı ve ortalamalarını aldı.\n",
    "                                      # buyuk olanları true kucuk olanları false olarak gruplandırdı"
   ]
  },
  {
   "cell_type": "code",
   "execution_count": null,
   "id": "62c581c5",
   "metadata": {},
   "outputs": [],
   "source": []
  },
  {
   "cell_type": "code",
   "execution_count": null,
   "id": "531605c3",
   "metadata": {},
   "outputs": [],
   "source": []
  },
  {
   "cell_type": "markdown",
   "id": "594594b7",
   "metadata": {},
   "source": [
    "# pd.Series da tarihsel değerler üretmek"
   ]
  },
  {
   "cell_type": "code",
   "execution_count": 230,
   "id": "d01fbdb2",
   "metadata": {},
   "outputs": [],
   "source": [
    "tarihler=pd.date_range(\"20220101\", periods=10)"
   ]
  },
  {
   "cell_type": "code",
   "execution_count": 231,
   "id": "fbd97ed6",
   "metadata": {},
   "outputs": [
    {
     "data": {
      "text/plain": [
       "DatetimeIndex(['2022-01-01', '2022-01-02', '2022-01-03', '2022-01-04',\n",
       "               '2022-01-05', '2022-01-06', '2022-01-07', '2022-01-08',\n",
       "               '2022-01-09', '2022-01-10'],\n",
       "              dtype='datetime64[ns]', freq='D')"
      ]
     },
     "execution_count": 231,
     "metadata": {},
     "output_type": "execute_result"
    }
   ],
   "source": [
    "tarihler                      # sonuc kısmı incelersek freq=\"D\" day sıklıkta bir sonuc cıkardı. gün gün ilerledi. freq değer\n",
    "                              # girilmezse \"D\" olarak alır. bunu değiştirerek farklı zaman dilimlerine bağlı olarak oluşur"
   ]
  },
  {
   "cell_type": "code",
   "execution_count": 232,
   "id": "6ec43caf",
   "metadata": {},
   "outputs": [
    {
     "data": {
      "text/plain": [
       "0   2022-01-01\n",
       "1   2022-01-02\n",
       "2   2022-01-03\n",
       "3   2022-01-04\n",
       "4   2022-01-05\n",
       "5   2022-01-06\n",
       "6   2022-01-07\n",
       "7   2022-01-08\n",
       "8   2022-01-09\n",
       "9   2022-01-10\n",
       "dtype: datetime64[ns]"
      ]
     },
     "execution_count": 232,
     "metadata": {},
     "output_type": "execute_result"
    }
   ],
   "source": [
    "pd.Series(tarihler)"
   ]
  },
  {
   "cell_type": "code",
   "execution_count": null,
   "id": "015c117e",
   "metadata": {},
   "outputs": [],
   "source": []
  },
  {
   "cell_type": "code",
   "execution_count": 233,
   "id": "a2e471d6",
   "metadata": {},
   "outputs": [],
   "source": [
    "tarihler1=pd.date_range(\"20220101\", periods=10, freq=\"W\")"
   ]
  },
  {
   "cell_type": "code",
   "execution_count": 234,
   "id": "133a8f4d",
   "metadata": {},
   "outputs": [
    {
     "data": {
      "text/plain": [
       "0   2022-01-02\n",
       "1   2022-01-09\n",
       "2   2022-01-16\n",
       "3   2022-01-23\n",
       "4   2022-01-30\n",
       "5   2022-02-06\n",
       "6   2022-02-13\n",
       "7   2022-02-20\n",
       "8   2022-02-27\n",
       "9   2022-03-06\n",
       "dtype: datetime64[ns]"
      ]
     },
     "execution_count": 234,
     "metadata": {},
     "output_type": "execute_result"
    }
   ],
   "source": [
    "pd.Series(tarihler1)"
   ]
  },
  {
   "cell_type": "code",
   "execution_count": 235,
   "id": "7fa58807",
   "metadata": {},
   "outputs": [],
   "source": [
    "tarihler2=pd.date_range(\"20220101\", periods=10, freq=\"M\")"
   ]
  },
  {
   "cell_type": "code",
   "execution_count": 236,
   "id": "cb5ffa1a",
   "metadata": {},
   "outputs": [
    {
     "data": {
      "text/plain": [
       "0   2022-01-31\n",
       "1   2022-02-28\n",
       "2   2022-03-31\n",
       "3   2022-04-30\n",
       "4   2022-05-31\n",
       "5   2022-06-30\n",
       "6   2022-07-31\n",
       "7   2022-08-31\n",
       "8   2022-09-30\n",
       "9   2022-10-31\n",
       "dtype: datetime64[ns]"
      ]
     },
     "execution_count": 236,
     "metadata": {},
     "output_type": "execute_result"
    }
   ],
   "source": [
    "pd.Series(tarihler2)"
   ]
  },
  {
   "cell_type": "code",
   "execution_count": null,
   "id": "5b47d721",
   "metadata": {},
   "outputs": [],
   "source": []
  },
  {
   "cell_type": "code",
   "execution_count": 237,
   "id": "fe9bcff3",
   "metadata": {},
   "outputs": [],
   "source": [
    "tarihler3=pd.date_range(\"20220101\", periods=10, freq=\"3M\")"
   ]
  },
  {
   "cell_type": "code",
   "execution_count": 238,
   "id": "d98035b5",
   "metadata": {},
   "outputs": [
    {
     "data": {
      "text/plain": [
       "0   2022-01-31\n",
       "1   2022-04-30\n",
       "2   2022-07-31\n",
       "3   2022-10-31\n",
       "4   2023-01-31\n",
       "5   2023-04-30\n",
       "6   2023-07-31\n",
       "7   2023-10-31\n",
       "8   2024-01-31\n",
       "9   2024-04-30\n",
       "dtype: datetime64[ns]"
      ]
     },
     "execution_count": 238,
     "metadata": {},
     "output_type": "execute_result"
    }
   ],
   "source": [
    "pd.Series(tarihler3)"
   ]
  },
  {
   "cell_type": "code",
   "execution_count": null,
   "id": "91c9ee9f",
   "metadata": {},
   "outputs": [],
   "source": []
  },
  {
   "cell_type": "code",
   "execution_count": null,
   "id": "01f906c1",
   "metadata": {},
   "outputs": [],
   "source": []
  }
 ],
 "metadata": {
  "kernelspec": {
   "display_name": "Python 3 (ipykernel)",
   "language": "python",
   "name": "python3"
  },
  "language_info": {
   "codemirror_mode": {
    "name": "ipython",
    "version": 3
   },
   "file_extension": ".py",
   "mimetype": "text/x-python",
   "name": "python",
   "nbconvert_exporter": "python",
   "pygments_lexer": "ipython3",
   "version": "3.9.12"
  }
 },
 "nbformat": 4,
 "nbformat_minor": 5
}
